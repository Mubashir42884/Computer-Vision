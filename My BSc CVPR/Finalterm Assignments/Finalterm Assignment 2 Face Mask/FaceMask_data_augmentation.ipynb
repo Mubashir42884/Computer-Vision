{
 "cells": [
  {
   "cell_type": "code",
   "execution_count": 1,
   "id": "759836de",
   "metadata": {},
   "outputs": [],
   "source": [
    "from tensorflow.keras.preprocessing.image import ImageDataGenerator"
   ]
  },
  {
   "cell_type": "code",
   "execution_count": 2,
   "id": "70ef9d83",
   "metadata": {},
   "outputs": [],
   "source": [
    "# Directory paths\n",
    "train_dir = \"M:\\\\Dataset\\\\FaceMask_detection\\\\Train\"\n",
    "test_dir = \"M:\\\\Dataset\\\\FaceMask_detection\\\\Test\"\n",
    "val_dir = \"M:\\\\Dataset\\\\FaceMask_detection\\\\Validation\""
   ]
  },
  {
   "cell_type": "code",
   "execution_count": 3,
   "id": "77b52b69",
   "metadata": {},
   "outputs": [],
   "source": [
    "# Augmentation settings\n",
    "batch_size = 32\n",
    "target_size = (180, 180)"
   ]
  },
  {
   "cell_type": "code",
   "execution_count": 4,
   "id": "35fa6566",
   "metadata": {
    "scrolled": true
   },
   "outputs": [
    {
     "name": "stdout",
     "output_type": "stream",
     "text": [
      "Found 2400 images belonging to 3 classes.\n",
      "Found 1140 images belonging to 3 classes.\n",
      "Found 390 images belonging to 3 classes.\n"
     ]
    }
   ],
   "source": [
    "\n",
    "# Create a data generator with augmentations for training data\n",
    "train_datagen = ImageDataGenerator(\n",
    "    rescale=1./255,\n",
    "    rotation_range=20,\n",
    "    width_shift_range=0.2,\n",
    "    height_shift_range=0.2,\n",
    "    horizontal_flip=True,\n",
    "    vertical_flip=True,\n",
    "    brightness_range=(0.8, 1.2),\n",
    "    zoom_range=0.2\n",
    ")\n",
    "\n",
    "# Load and augment training data\n",
    "train_generator = train_datagen.flow_from_directory(\n",
    "    train_dir,\n",
    "    target_size=target_size,\n",
    "    batch_size=batch_size,\n",
    "    class_mode='categorical',  # or 'binary' depending on your setup\n",
    "    shuffle=True\n",
    ")\n",
    "\n",
    "# Create a data generator for test and validation data (no augmentation)\n",
    "test_datagen = ImageDataGenerator(rescale=1./255)\n",
    "val_datagen = ImageDataGenerator(rescale=1./255)\n",
    "\n",
    "test_generator = test_datagen.flow_from_directory(\n",
    "    test_dir,\n",
    "    target_size=target_size,\n",
    "    batch_size=batch_size,\n",
    "    class_mode='categorical'  # or 'binary'\n",
    ")\n",
    "\n",
    "val_generator = val_datagen.flow_from_directory(\n",
    "    val_dir,\n",
    "    target_size=target_size,\n",
    "    batch_size=batch_size,\n",
    "    class_mode='categorical'  # or 'binary'\n",
    ")"
   ]
  },
  {
   "cell_type": "code",
   "execution_count": 10,
   "id": "5c14488f",
   "metadata": {},
   "outputs": [],
   "source": [
    "# Save data augmentation settings\n",
    "data_augmentation_settings = {\n",
    "    \"rotation_range\": 20,\n",
    "    \"width_shift_range\": 0.2,\n",
    "    \"height_shift_range\": 0.2,\n",
    "    \"shear_range\": 0.2,\n",
    "    \"zoom_range\": 0.2,\n",
    "    \"horizontal_flip\": True,\n",
    "    \"vertical_flip\": True,\n",
    "    \"brightness_range\": [0.8, 1.2]\n",
    "}\n",
    "\n",
    "\n",
    "import json\n",
    "\n",
    "# Save the settings using JSON\n",
    "with open(\"data_augmentation_settings.json\", \"w\") as f:\n",
    "    json.dump(data_augmentation_settings, f)"
   ]
  }
 ],
 "metadata": {
  "kernelspec": {
   "display_name": "Python (tensorflow)",
   "language": "python",
   "name": "tf"
  },
  "language_info": {
   "codemirror_mode": {
    "name": "ipython",
    "version": 3
   },
   "file_extension": ".py",
   "mimetype": "text/x-python",
   "name": "python",
   "nbconvert_exporter": "python",
   "pygments_lexer": "ipython3",
   "version": "3.8.17"
  }
 },
 "nbformat": 4,
 "nbformat_minor": 5
}
