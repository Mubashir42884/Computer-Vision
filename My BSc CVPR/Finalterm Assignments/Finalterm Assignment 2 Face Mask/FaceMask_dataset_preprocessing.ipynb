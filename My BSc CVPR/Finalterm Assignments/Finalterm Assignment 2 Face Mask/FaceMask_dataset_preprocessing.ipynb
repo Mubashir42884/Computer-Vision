{
 "cells": [
  {
   "cell_type": "code",
   "execution_count": 8,
   "id": "fdd09e52",
   "metadata": {},
   "outputs": [],
   "source": [
    "import os\n",
    "import cv2\n",
    "import random\n",
    "from tqdm import tqdm\n",
    "from pathlib import Path"
   ]
  },
  {
   "cell_type": "code",
   "execution_count": 9,
   "id": "89dd1367",
   "metadata": {},
   "outputs": [
    {
     "name": "stdout",
     "output_type": "stream",
     "text": [
      "There are '3' directories and '0' images in --> M:\\Dataset\\Face Mask.\n",
      "\n",
      "There are '3' directories and '0' images in --> M:\\Dataset\\Face Mask\\Test.\n",
      "\n",
      "There are '0' directories and '380' images in --> M:\\Dataset\\Face Mask\\Test\\ImproperMask.\n",
      "\n",
      "There are '0' directories and '380' images in --> M:\\Dataset\\Face Mask\\Test\\WithMask.\n",
      "\n",
      "There are '0' directories and '380' images in --> M:\\Dataset\\Face Mask\\Test\\WithoutMask.\n",
      "\n",
      "There are '3' directories and '0' images in --> M:\\Dataset\\Face Mask\\Train.\n",
      "\n",
      "There are '0' directories and '800' images in --> M:\\Dataset\\Face Mask\\Train\\ImproperMask.\n",
      "\n",
      "There are '0' directories and '800' images in --> M:\\Dataset\\Face Mask\\Train\\WithMask.\n",
      "\n",
      "There are '0' directories and '800' images in --> M:\\Dataset\\Face Mask\\Train\\WithoutMask.\n",
      "\n",
      "There are '3' directories and '0' images in --> M:\\Dataset\\Face Mask\\Validation.\n",
      "\n",
      "There are '0' directories and '130' images in --> M:\\Dataset\\Face Mask\\Validation\\ImproperMask.\n",
      "\n",
      "There are '0' directories and '130' images in --> M:\\Dataset\\Face Mask\\Validation\\WithMask.\n",
      "\n",
      "There are '0' directories and '130' images in --> M:\\Dataset\\Face Mask\\Validation\\WithoutMask.\n",
      "\n"
     ]
    }
   ],
   "source": [
    "data_dir = \"M:\\\\Dataset\\\\Face Mask\"\n",
    "\n",
    "for dirpath, dirnames, filenames in os.walk(data_dir):\n",
    "    print(f\"There are '{len(dirnames)}' directories and '{len(filenames)}' images in --> {dirpath}.\\n\")"
   ]
  },
  {
   "cell_type": "code",
   "execution_count": 10,
   "id": "98b3bae5",
   "metadata": {},
   "outputs": [],
   "source": [
    "# Input and output directories\n",
    "input_dir = \"M:\\\\Dataset\\\\Face Mask\"\n",
    "output_dir = \"M:\\\\Dataset\\\\FaceMask_detection\""
   ]
  },
  {
   "cell_type": "code",
   "execution_count": 11,
   "id": "a89e737f",
   "metadata": {},
   "outputs": [],
   "source": [
    "# Resize dimensions\n",
    "resize_width = 180\n",
    "resize_height = 180\n",
    "\n",
    "# Create output directory if it doesn't exist\n",
    "Path(output_dir).mkdir(parents=True, exist_ok=True)\n",
    "\n",
    "# Preprocessing function\n",
    "def preprocess_images(input_folder, output_folder):\n",
    "    class_folders = os.listdir(input_folder)\n",
    "    for class_folder in class_folders:\n",
    "        class_path = os.path.join(input_folder, class_folder)\n",
    "        output_class_path = os.path.join(output_folder, class_folder)\n",
    "        Path(output_class_path).mkdir(parents=True, exist_ok=True)\n",
    "        \n",
    "        image_files = os.listdir(class_path)\n",
    "        random.shuffle(image_files)\n",
    "        \n",
    "        for i, image_file in enumerate(tqdm(image_files, desc=f\"Processing {class_folder}\")):\n",
    "            img_path = os.path.join(class_path, image_file)\n",
    "            img = cv2.imread(img_path)\n",
    "            img = cv2.resize(img, (resize_width, resize_height))\n",
    "            \n",
    "            img_name = f\"{class_folder}_{i:04d}.png\"\n",
    "            img_output_path = os.path.join(output_class_path, img_name)\n",
    "            cv2.imwrite(img_output_path, img)"
   ]
  },
  {
   "cell_type": "code",
   "execution_count": 12,
   "id": "ca0f432b",
   "metadata": {},
   "outputs": [
    {
     "name": "stderr",
     "output_type": "stream",
     "text": [
      "Processing ImproperMask: 100%|███████████████████████████████████████████████████████| 800/800 [00:10<00:00, 75.83it/s]\n",
      "Processing WithMask: 100%|███████████████████████████████████████████████████████████| 800/800 [00:10<00:00, 78.17it/s]\n",
      "Processing WithoutMask: 100%|███████████████████████████████████████████████████████| 800/800 [00:04<00:00, 169.05it/s]\n",
      "Processing ImproperMask: 100%|███████████████████████████████████████████████████████| 380/380 [00:05<00:00, 73.23it/s]\n",
      "Processing WithMask: 100%|███████████████████████████████████████████████████████████| 380/380 [00:04<00:00, 77.24it/s]\n",
      "Processing WithoutMask: 100%|███████████████████████████████████████████████████████| 380/380 [00:02<00:00, 176.22it/s]\n",
      "Processing ImproperMask: 100%|███████████████████████████████████████████████████████| 130/130 [00:01<00:00, 70.95it/s]\n",
      "Processing WithMask: 100%|██████████████████████████████████████████████████████████| 130/130 [00:00<00:00, 154.46it/s]\n",
      "Processing WithoutMask: 100%|███████████████████████████████████████████████████████| 130/130 [00:00<00:00, 178.42it/s]"
     ]
    },
    {
     "name": "stdout",
     "output_type": "stream",
     "text": [
      "Preprocessing completed.\n"
     ]
    },
    {
     "name": "stderr",
     "output_type": "stream",
     "text": [
      "\n"
     ]
    }
   ],
   "source": [
    "# Preprocess train, test, and validation data\n",
    "for data_type in [\"Train\", \"Test\", \"Validation\"]:\n",
    "    input_data_folder = os.path.join(input_dir, data_type)\n",
    "    output_data_folder = os.path.join(output_dir, data_type)\n",
    "    preprocess_images(input_data_folder, output_data_folder)\n",
    "\n",
    "print(\"Preprocessing completed.\")"
   ]
  }
 ],
 "metadata": {
  "kernelspec": {
   "display_name": "Python (tensorflow)",
   "language": "python",
   "name": "tf"
  },
  "language_info": {
   "codemirror_mode": {
    "name": "ipython",
    "version": 3
   },
   "file_extension": ".py",
   "mimetype": "text/x-python",
   "name": "python",
   "nbconvert_exporter": "python",
   "pygments_lexer": "ipython3",
   "version": "3.8.17"
  }
 },
 "nbformat": 4,
 "nbformat_minor": 5
}
