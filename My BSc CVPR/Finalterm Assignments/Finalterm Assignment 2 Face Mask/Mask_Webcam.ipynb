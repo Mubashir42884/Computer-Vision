{
 "cells": [
  {
   "cell_type": "code",
   "execution_count": 1,
   "id": "7dbdf545",
   "metadata": {},
   "outputs": [],
   "source": [
    "import cv2\n",
    "import os\n",
    "import numpy as np\n",
    "import tensorflow as tf\n",
    "from tensorflow import keras\n",
    "from tensorflow.keras.preprocessing.image import img_to_array\n",
    "from tensorflow.keras.models import load_model\n",
    "from tensorflow.keras.applications.mobilenet_v2 import preprocess_input"
   ]
  },
  {
   "cell_type": "code",
   "execution_count": 2,
   "id": "eee21024",
   "metadata": {},
   "outputs": [],
   "source": [
    "face_classifier = cv2.CascadeClassifier(\"haarcascade_frontalface_default.xml\")"
   ]
  },
  {
   "cell_type": "code",
   "execution_count": 3,
   "id": "78b8443a",
   "metadata": {},
   "outputs": [],
   "source": [
    "mask_detection = tf.keras.models.load_model(\"mask_model_mobileNet.h5\", compile=False)\n",
    "\n",
    "adam_lr = 0.00001\n",
    "beta1 = 0.99\n",
    "beta2 = 0.99\n",
    "eps = 1e-9\n",
    "\n",
    "optimizer_adam = keras.optimizers.Adam(learning_rate=adam_lr, beta_1=beta1, beta_2=beta2, epsilon=eps)\n",
    "\n",
    "mask_detection.compile(\n",
    "    optimizer = optimizer_adam, \n",
    "    loss = 'sparse_categorical_crossentropy', \n",
    "    metrics = ['accuracy']\n",
    ")"
   ]
  },
  {
   "cell_type": "code",
   "execution_count": 4,
   "id": "8a8de6fa",
   "metadata": {},
   "outputs": [],
   "source": [
    "def predict(image):\n",
    "    face_frame = cv2.cvtColor(image, cv2.COLOR_BGR2RGB)\n",
    "    face_frame = cv2.resize(face_frame, (224, 224))\n",
    "    face_frame = img_to_array(face_frame)\n",
    "    face_frame = np.expand_dims(face_frame, axis=0)\n",
    "    face_frame =  preprocess_input(face_frame)\n",
    "    \n",
    "    # predict the selected face frame for mask\n",
    "    prediction = mask_detection.predict(face_frame)\n",
    "    \n",
    "    return prediction[0][0]"
   ]
  },
  {
   "cell_type": "code",
   "execution_count": 9,
   "id": "c008b282",
   "metadata": {},
   "outputs": [],
   "source": [
    "text_mask = \"Mask On\"\n",
    "text_no_mask = \"Mask Off\"\n",
    "font = cv2.FONT_HERSHEY_SIMPLEX\n",
    "scale = 0.8\n",
    "\n",
    "def detect_and_draw(frame):\n",
    "    # For grayscale image\n",
    "    gray_frame = cv2.cvtColor(frame, cv2.COLOR_BGR2GRAY)\n",
    "    \n",
    "    # Initialize Haar Cascade\n",
    "    faces = face_classifier.detectMultiScale(gray_frame, scaleFactor=1.1, minNeighbors=5)\n",
    "    \n",
    "    for (x, y, w, h) in faces:\n",
    "        roi_color = frame[y:y+h, x:x+w]\n",
    "\n",
    "        # Predict the class using your model's \"predict\" function\n",
    "        prediction = predict(roi_color)\n",
    "        #print(prediction)\n",
    "        # Get the class index with the maximum probability\n",
    "        class_id = np.argmax(prediction)\n",
    "        #print(class_id)\n",
    "        \n",
    "        if prediction < 1.1e-8:\n",
    "            label = \"WithMask\"\n",
    "            color = (0, 255, 0)  # Red color for WithMask\n",
    "        elif 1.1e-06 < prediction < 0.9:\n",
    "            label = \"ImproperMask\"\n",
    "            color = (10, 115, 245)  # Yellow color for ImproperMask\n",
    "        elif 0.1e-2 < prediction < 1.1:\n",
    "            label = \"WithoutMask\"\n",
    "            color = (0, 0, 255)  # Green color for WithoutMask\n",
    "        else:\n",
    "            continue\n",
    "\n",
    "\n",
    "        # Frame size for the rectangular detection frame\n",
    "        cv2.rectangle(frame, (x, y), (x+w, y+h), color, 2)\n",
    "        # Output text after the predictions made\n",
    "        cv2.putText(frame, text=label, org=(x+5, y-10), fontFace=font, \n",
    "                    fontScale=scale, color=color, thickness=2)\n",
    "\n",
    "\n",
    "    return frame"
   ]
  },
  {
   "cell_type": "code",
   "execution_count": 10,
   "id": "aefbfd61",
   "metadata": {},
   "outputs": [],
   "source": [
    "# Initialize the video capture\n",
    "video_cap = cv2.VideoCapture(0)\n",
    "\n",
    "# Set the desired window size\n",
    "window_width = 640\n",
    "window_height = 480\n",
    "window_name = \"Mask Detection Webcam\"\n",
    "\n",
    "cv2.namedWindow(window_name, cv2.WINDOW_NORMAL)\n",
    "cv2.resizeWindow(window_name, window_width, window_height)\n",
    "\n",
    "while True:\n",
    "    ret, frame = video_cap.read()\n",
    "    if not ret:\n",
    "        break\n",
    "\n",
    "    # Perform face detection and annotation\n",
    "    annotated_frame = detect_and_draw(frame)  # Use your detect_and_draw function here\n",
    "\n",
    "    # Resize and display the frame\n",
    "    resized_frame = cv2.resize(annotated_frame, (window_width, window_height))\n",
    "    cv2.imshow(window_name, resized_frame)\n",
    "\n",
    "    # Exit on 'q' key press\n",
    "    if cv2.waitKey(1) & 0xFF == ord(\"q\"):\n",
    "        break\n",
    "\n",
    "# Release resources\n",
    "video_cap.release()\n",
    "cv2.destroyAllWindows()"
   ]
  }
 ],
 "metadata": {
  "kernelspec": {
   "display_name": "Python (tensorflow)",
   "language": "python",
   "name": "tf"
  },
  "language_info": {
   "codemirror_mode": {
    "name": "ipython",
    "version": 3
   },
   "file_extension": ".py",
   "mimetype": "text/x-python",
   "name": "python",
   "nbconvert_exporter": "python",
   "pygments_lexer": "ipython3",
   "version": "3.8.17"
  }
 },
 "nbformat": 4,
 "nbformat_minor": 5
}
