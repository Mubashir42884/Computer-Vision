{
 "cells": [
  {
   "cell_type": "markdown",
   "id": "3b7935e8",
   "metadata": {},
   "source": [
    "### Import Necessary Libraries"
   ]
  },
  {
   "cell_type": "markdown",
   "id": "8f76f2d2",
   "metadata": {},
   "source": [
    "Import numpy for defining variables for the logical operations.<br>\n",
    "Import matplotlib for visualizing the plots of the XOR logic operation results."
   ]
  },
  {
   "cell_type": "code",
   "execution_count": 1,
   "id": "7344c37c",
   "metadata": {},
   "outputs": [],
   "source": [
    "import numpy as np\n",
    "import matplotlib.pyplot as plt"
   ]
  },
  {
   "cell_type": "markdown",
   "id": "d5dd3ec4",
   "metadata": {},
   "source": [
    "Define the combinational inputs for the XOR operation and the results too."
   ]
  },
  {
   "cell_type": "code",
   "execution_count": 2,
   "id": "26d7e7d8",
   "metadata": {},
   "outputs": [],
   "source": [
    "# Define the input data (X) and the corresponding XOR results (Y)\n",
    "X = np.array([[0, 0], [0, 1], [1, 0], [1, 1]])\n",
    "Y = np.array([[0], [1], [1], [0]])"
   ]
  },
  {
   "cell_type": "markdown",
   "id": "cc15a97b",
   "metadata": {},
   "source": [
    "Plot the XOR operation results."
   ]
  },
  {
   "cell_type": "code",
   "execution_count": 3,
   "id": "1b1e503c",
   "metadata": {},
   "outputs": [
    {
     "data": {
      "image/png": "[encoded data removed]",
      "text/plain": [
       "<Figure size 576x360 with 1 Axes>"
      ]
     },
     "metadata": {
      "needs_background": "light"
     },
     "output_type": "display_data"
    }
   ],
   "source": [
    "# Plot the results of XOR operations\n",
    "plt.figure(figsize=(8,5))\n",
    "\n",
    "# Plot the data points\n",
    "for i in range(len(Y)):\n",
    "    if Y[i] == 0:\n",
    "        plt.plot(X[i, 0], X[i, 1], 'ro', markersize=8)\n",
    "    else:\n",
    "        plt.plot(X[i, 0], X[i, 1], 'gs', markersize=8)\n",
    "\n",
    "plt.xlabel(\"X1\", size = 20, color= \"orange\")\n",
    "plt.ylabel(\"X2\", size = 20, color= \"purple\")\n",
    "plt.title(\"XOR Operation Results\", size = 25, color= \"teal\")\n",
    "plt.xlim([-0.1, 1.1])\n",
    "plt.ylim([-0.1, 1.1])\n",
    "plt.show()"
   ]
  },
  {
   "cell_type": "markdown",
   "id": "20185cbd",
   "metadata": {},
   "source": [
    "### Neural Network Architecture"
   ]
  },
  {
   "cell_type": "markdown",
   "id": "469f0bd3",
   "metadata": {},
   "source": [
    "Define the neural network architecture by defining the - <i> Input Layer Neurons, Hidden Layer Neurons, and Output Layer Neurons.</i><br>\n",
    "Here, 2 neurons used for Input layer, 2 neurons for a single hidden layer and 1 neuron for the output layer will be used."
   ]
  },
  {
   "cell_type": "code",
   "execution_count": 4,
   "id": "647f3e28",
   "metadata": {},
   "outputs": [],
   "source": [
    "# Define the neural network architecture\n",
    "input_size = 2\n",
    "hidden_size = 2\n",
    "output_size = 1"
   ]
  },
  {
   "cell_type": "markdown",
   "id": "ec09e232",
   "metadata": {},
   "source": [
    "Randomly initialize the Weights and biases for the Neural Network."
   ]
  },
  {
   "cell_type": "code",
   "execution_count": 5,
   "id": "7d35d27d",
   "metadata": {},
   "outputs": [],
   "source": [
    "# Initialize the weights and biases with random values\n",
    "np.random.seed(0)\n",
    "W1 = np.random.randn(input_size, hidden_size)\n",
    "b1 = np.random.randn(hidden_size)\n",
    "W2 = np.random.randn(hidden_size, output_size)\n",
    "b2 = np.random.randn(output_size)"
   ]
  },
  {
   "cell_type": "markdown",
   "id": "b1ceb6a7",
   "metadata": {},
   "source": [
    "### Activation Function Definition"
   ]
  },
  {
   "cell_type": "markdown",
   "id": "82446202",
   "metadata": {},
   "source": [
    "Here two method for the sigmoid function has been defined. One is for the feed forward propagation and the derivative of the sigmoid function for the Back-propagation."
   ]
  },
  {
   "cell_type": "code",
   "execution_count": 6,
   "id": "ca6460ee",
   "metadata": {},
   "outputs": [],
   "source": [
    "# Define the activation function (sigmoid)\n",
    "def sigmoid(x):\n",
    "    return 1 / (1 + np.exp(-x))\n",
    "\n",
    "# Define the derivative of the sigmoid function\n",
    "def sigmoid_derivative(x):\n",
    "    return x * (1 - x)"
   ]
  },
  {
   "cell_type": "markdown",
   "id": "71b4e680",
   "metadata": {},
   "source": [
    "### Neural Network Model Building - Forward and Backwork Propagation"
   ]
  },
  {
   "cell_type": "markdown",
   "id": "b12fc86b",
   "metadata": {},
   "source": [
    "<b>The Forward Propagation:</b> Here the Sigmoid activation function will be used to calculate the outputs of Hidden Layer and Output Layer's weighted sum.<br>\n",
    "<b>Loss Calculation:</b> The loss for each epoch will be calculated here by considering the accuracy according to the output results.<br> \n",
    "<b>The Backward Propagation:</b> Here the sigmoid_derivative function will be used to calculate errors in each outputs of both hidden layers and output layers. It will also calculate the small changes for each updates to balance the weights and biases.<br>\n",
    "<br>\n",
    "After propagating, the weights and biases will be updated after epochs."
   ]
  },
  {
   "cell_type": "code",
   "execution_count": 7,
   "id": "24072244",
   "metadata": {},
   "outputs": [
    {
     "name": "stdout",
     "output_type": "stream",
     "text": [
      "\n",
      "Epoch- 0:\n",
      "\tLoss: 2.0 (out of 4)\n",
      "------------------------------\n",
      "\n",
      "Epoch- 1000:\n",
      "\tLoss: 0.0 (out of 4)\n",
      "------------------------------\n",
      "\n",
      "Epoch- 2000:\n",
      "\tLoss: 0.0 (out of 4)\n",
      "------------------------------\n",
      "\n",
      "Epoch- 3000:\n",
      "\tLoss: 0.0 (out of 4)\n",
      "------------------------------\n",
      "\n",
      "Epoch- 4000:\n",
      "\tLoss: 0.0 (out of 4)\n",
      "------------------------------\n",
      "\n",
      "Epoch- 5000:\n",
      "\tLoss: 0.0 (out of 4)\n",
      "------------------------------\n",
      "\n",
      "Epoch- 6000:\n",
      "\tLoss: 0.0 (out of 4)\n",
      "------------------------------\n",
      "\n",
      "Epoch- 7000:\n",
      "\tLoss: 0.0 (out of 4)\n",
      "------------------------------\n",
      "\n",
      "Epoch- 8000:\n",
      "\tLoss: 0.0 (out of 4)\n",
      "------------------------------\n",
      "\n",
      "Epoch- 9000:\n",
      "\tLoss: 0.0 (out of 4)\n",
      "------------------------------\n"
     ]
    }
   ],
   "source": [
    "# Train the neural network for a specified number of epochs\n",
    "epochs = 10000\n",
    "for epoch in range(epochs):\n",
    "    # Forward propagation\n",
    "    hidden_layer_output = sigmoid(np.dot(X, W1) + b1)\n",
    "    output_layer_output = sigmoid(np.dot(hidden_layer_output, W2) + b2)\n",
    "\n",
    "    # Calculate the loss (accuracy-based)\n",
    "    accuracy = np.mean(np.round(output_layer_output) == Y)\n",
    "    loss = (1 - accuracy) * Y.shape[0]\n",
    "\n",
    "    # Backpropagation\n",
    "    output_error = Y - output_layer_output\n",
    "    output_delta = output_error * sigmoid_derivative(output_layer_output)\n",
    "\n",
    "    hidden_error = output_delta.dot(W2.T)\n",
    "    hidden_delta = hidden_error * sigmoid_derivative(hidden_layer_output)\n",
    "    \n",
    "    # Update the weights and biases\n",
    "    W2 += hidden_layer_output.T.dot(output_delta)\n",
    "    b2 += np.sum(output_delta, axis=0)\n",
    "    W1 += X.T.dot(hidden_delta)\n",
    "    b1 += np.sum(hidden_delta, axis=0)\n",
    "\n",
    "    if epoch % 1000 == 0:\n",
    "        print(f\"\\nEpoch- {epoch}:\\n\\tLoss: {loss} (out of {Y.shape[0]})\")\n",
    "        print(\"------------------------------\")"
   ]
  },
  {
   "cell_type": "markdown",
   "id": "445f44a9",
   "metadata": {},
   "source": [
    "### Final Prediction Results"
   ]
  },
  {
   "cell_type": "code",
   "execution_count": 8,
   "id": "c1dd4262",
   "metadata": {},
   "outputs": [
    {
     "name": "stdout",
     "output_type": "stream",
     "text": [
      "Final Prediction:\n",
      "\tInput: [0 0] Output: 0.0\n",
      "\tInput: [0 1] Output: 1.0\n",
      "\tInput: [1 0] Output: 1.0\n",
      "\tInput: [1 1] Output: 0.0\n"
     ]
    }
   ],
   "source": [
    "# Print the final prediction made by the model\n",
    "print(\"Final Prediction:\")\n",
    "for i in range(X.shape[0]):\n",
    "    hidden_output = sigmoid(np.dot(X[i], W1) + b1)\n",
    "    output = sigmoid(np.dot(hidden_output, W2) + b2)\n",
    "    print(\"\\tInput:\", X[i], \"Output:\", np.round(output[0]))"
   ]
  },
  {
   "cell_type": "markdown",
   "id": "6b250be4",
   "metadata": {},
   "source": [
    "### Visualize the Decision Boundary of XOR operation"
   ]
  },
  {
   "cell_type": "markdown",
   "id": "89fea85f",
   "metadata": {},
   "source": [
    "Here the decision boundary will be drawn using the equation set from the predictions."
   ]
  },
  {
   "cell_type": "code",
   "execution_count": 9,
   "id": "bc2acd3b",
   "metadata": {},
   "outputs": [
    {
     "data": {
      "image/png": "[encoded data removed]",
      "text/plain": [
       "<Figure size 648x432 with 1 Axes>"
      ]
     },
     "metadata": {
      "needs_background": "light"
     },
     "output_type": "display_data"
    }
   ],
   "source": [
    "# Define the equations for the boundary lines\n",
    "x1_line = np.linspace(-0.1, 1.5, 100)\n",
    "x2_line1 = 0.50 - x1_line\n",
    "x2_line2 = 1.50 - x1_line\n",
    "\n",
    "# Plot the decision boundary lines\n",
    "plt.figure(figsize=(9, 6))\n",
    "plt.plot(x1_line, x2_line1, color=\"black\")\n",
    "plt.plot(x1_line, x2_line2, color=\"black\")\n",
    "\n",
    "# Plot the data points\n",
    "for i in range(len(Y)):\n",
    "    if Y[i] == 0:\n",
    "        plt.plot(X[i, 0], X[i, 1], 'ro', markersize=8)\n",
    "    else:\n",
    "        plt.plot(X[i, 0], X[i, 1], 'gs', markersize=8)\n",
    "\n",
    "plt.xlabel(\"X1\", size=20, color=\"purple\")\n",
    "plt.ylabel(\"X2\", size=20, color=\"orange\")\n",
    "plt.title(\"XOR Logical Operation Boundary Line\", size=25, color=\"teal\")\n",
    "plt.xlim([-0.1, 1.1])\n",
    "plt.ylim([-0.1, 1.1])\n",
    "plt.show()"
   ]
  }
 ],
 "metadata": {
  "kernelspec": {
   "display_name": "Python 3 (ipykernel)",
   "language": "python",
   "name": "python3"
  },
  "language_info": {
   "codemirror_mode": {
    "name": "ipython",
    "version": 3
   },
   "file_extension": ".py",
   "mimetype": "text/x-python",
   "name": "python",
   "nbconvert_exporter": "python",
   "pygments_lexer": "ipython3",
   "version": "3.9.12"
  }
 },
 "nbformat": 4,
 "nbformat_minor": 5
}
