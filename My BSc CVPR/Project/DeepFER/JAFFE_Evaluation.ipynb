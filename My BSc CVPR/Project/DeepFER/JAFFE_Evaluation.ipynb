{
 "cells": [
  {
   "cell_type": "markdown",
   "id": "b96a9be0",
   "metadata": {},
   "source": [
    "## <b>DeepFER: A Deep Neural Network model for Facial Expression Recognition</b>"
   ]
  },
  {
   "cell_type": "markdown",
   "id": "0423cf3f",
   "metadata": {},
   "source": [
    "### Import Libraries and Modules"
   ]
  },
  {
   "cell_type": "code",
   "execution_count": 1,
   "id": "dfa66b73",
   "metadata": {},
   "outputs": [],
   "source": [
    "import os\n",
    "import cv2\n",
    "import numpy as np\n",
    "import pandas as pd\n",
    "import torch\n",
    "import torch.nn as nn\n",
    "import torch.optim as optim\n",
    "import torch.nn.functional as F\n",
    "from sklearn.model_selection import train_test_split\n",
    "from torch.utils.data import DataLoader, TensorDataset"
   ]
  },
  {
   "cell_type": "markdown",
   "id": "dbc99f9c",
   "metadata": {},
   "source": [
    "### Implement the 'DeepFER' model using PyTorch"
   ]
  },
  {
   "cell_type": "code",
   "execution_count": 2,
   "id": "706659ac",
   "metadata": {},
   "outputs": [],
   "source": [
    "class DeepFER(nn.Module):\n",
    "    def __init__(self):\n",
    "        super(DeepFER, self).__init__()\n",
    "\n",
    "        # Initialize weights with random Gaussian variables\n",
    "        for layer in self.modules():\n",
    "            if isinstance(layer, nn.Conv2d) or isinstance(layer, nn.Linear):\n",
    "                init.normal_(layer.weight, mean=0.0, std=0.05)\n",
    "                if layer.bias is not None:\n",
    "                    init.constant_(layer.bias, 0.0)\n",
    "                    \n",
    "        self.conv1 = nn.Conv2d(1, 32, kernel_size=7)\n",
    "        self.bn1 = nn.BatchNorm2d(32)\n",
    "        self.conv2 = nn.Conv2d(32, 64, kernel_size=5)\n",
    "        self.bn2 = nn.BatchNorm2d(64)\n",
    "        self.pool1 = nn.MaxPool2d(kernel_size=2, stride=2)\n",
    "        self.conv3 = nn.Conv2d(64, 128, kernel_size=5)\n",
    "        self.bn3 = nn.BatchNorm2d(128)\n",
    "        self.conv4 = nn.Conv2d(128, 128, kernel_size=3)\n",
    "        #self.dropout = nn.Dropout(0.3)  # Dropout layer\n",
    "        self.bn4 = nn.BatchNorm2d(128)\n",
    "        self.pool2 = nn.MaxPool2d(kernel_size=2, stride=2)\n",
    "        self.conv5 = nn.Conv2d(128, 256, kernel_size=3)\n",
    "        self.bn5 = nn.BatchNorm2d(256)\n",
    "        self.conv6 = nn.Conv2d(256, 256, kernel_size=3, stride=2)\n",
    "        self.bn6 = nn.BatchNorm2d(256)\n",
    "        self.pool3 = nn.MaxPool2d(kernel_size=2, stride=2)\n",
    "        self.conv8 = nn.Conv2d(256, 128, kernel_size=2)  # Corrected output channels\n",
    "        self.bn8 = nn.BatchNorm2d(128)  # Matched with the output channels  \n",
    "        \n",
    "        # Update the input size of fc1 to match the output size of conv8\n",
    "        self.fc1 = nn.Linear(18432, 256)  # Updated input size\n",
    "        self.fc2 = nn.Linear(256, 128)\n",
    "        self.dropout = nn.Dropout(0.35)  # Dropout layer\n",
    "        self.fc3 = nn.Linear(128, 32)\n",
    "        self.fc4 = nn.Linear(32, 7)  # Output layer\n",
    "            \n",
    "    # Localization network\n",
    "        self.localization = nn.Sequential(\n",
    "            nn.Conv2d(1, 8, kernel_size=7),\n",
    "            nn.MaxPool2d(2, stride=2),\n",
    "            nn.ReLU(True),\n",
    "            nn.Conv2d(8, 10, kernel_size=5),\n",
    "            nn.MaxPool2d(2, stride=2),\n",
    "            nn.ReLU(True)\n",
    "        )\n",
    "        \n",
    "        # Regressor for the affine matrix\n",
    "        self.fc_loc = nn.Sequential(\n",
    "            nn.Linear(10 * 53 * 53, 32),\n",
    "            nn.ReLU(True),\n",
    "            nn.Linear(32, 3 * 2)\n",
    "        )\n",
    "        # Initialize the weights/bias with identity transformation\n",
    "        self.fc_loc[2].weight.data.zero_()\n",
    "        self.fc_loc[2].bias.data.copy_(torch.tensor([1, 0, 0, 0, 1, 0], dtype=torch.float))\n",
    "        \n",
    "        \n",
    "    def stn(self, x):\n",
    "        xs = self.localization(x)\n",
    "        xs = xs.view(-1, 10 * 53 * 53)  # Flatten the tensor\n",
    "        theta = self.fc_loc(xs)\n",
    "        theta = theta.view(-1, 2, 3)\n",
    "\n",
    "        grid = F.affine_grid(theta, x.size())\n",
    "        x = F.grid_sample(x, grid)\n",
    "        return x\n",
    "        \n",
    "    def forward(self, x):\n",
    "        x = torch.relu(self.conv1(x))\n",
    "        x = self.bn1(x)\n",
    "        x = torch.relu(self.conv2(x))\n",
    "        x = self.bn2(x)\n",
    "        x = self.pool1(x)\n",
    "        x = torch.relu(self.conv3(x))\n",
    "        x = self.bn3(x)\n",
    "        x = torch.relu(self.conv4(x))\n",
    "        #x = self.dropout(x)  # Apply dropout\n",
    "        x = self.bn4(x)\n",
    "        x = self.pool2(x)\n",
    "        x = torch.relu(self.conv5(x))\n",
    "        x = self.bn5(x)\n",
    "        x = torch.relu(self.conv6(x))\n",
    "        x = self.bn6(x)\n",
    "        x = self.pool3(x)\n",
    "        x = torch.relu(self.conv8(x))\n",
    "        x = self.bn8(x)\n",
    "        \n",
    "        x = x.view(x.size(0), -1)  # Flatten\n",
    "        \n",
    "        x = torch.relu(self.fc1(x))\n",
    "        x = torch.relu(self.fc2(x))\n",
    "        x = self.dropout(x)  # Apply dropout\n",
    "        x = torch.relu(self.fc3(x))\n",
    "        x = self.fc4(x)  # No softmax here as it will be applied in the loss function\n",
    "        \n",
    "        return x"
   ]
  },
  {
   "cell_type": "markdown",
   "id": "4ef63c2f",
   "metadata": {},
   "source": [
    "##### Create instances of the DeepFER model"
   ]
  },
  {
   "cell_type": "code",
   "execution_count": 3,
   "id": "9563529d",
   "metadata": {},
   "outputs": [
    {
     "name": "stdout",
     "output_type": "stream",
     "text": [
      "DeepFER(\n",
      "  (conv1): Conv2d(1, 32, kernel_size=(7, 7), stride=(1, 1))\n",
      "  (bn1): BatchNorm2d(32, eps=1e-05, momentum=0.1, affine=True, track_running_stats=True)\n",
      "  (conv2): Conv2d(32, 64, kernel_size=(5, 5), stride=(1, 1))\n",
      "  (bn2): BatchNorm2d(64, eps=1e-05, momentum=0.1, affine=True, track_running_stats=True)\n",
      "  (pool1): MaxPool2d(kernel_size=2, stride=2, padding=0, dilation=1, ceil_mode=False)\n",
      "  (conv3): Conv2d(64, 128, kernel_size=(5, 5), stride=(1, 1))\n",
      "  (bn3): BatchNorm2d(128, eps=1e-05, momentum=0.1, affine=True, track_running_stats=True)\n",
      "  (conv4): Conv2d(128, 128, kernel_size=(3, 3), stride=(1, 1))\n",
      "  (bn4): BatchNorm2d(128, eps=1e-05, momentum=0.1, affine=True, track_running_stats=True)\n",
      "  (pool2): MaxPool2d(kernel_size=2, stride=2, padding=0, dilation=1, ceil_mode=False)\n",
      "  (conv5): Conv2d(128, 256, kernel_size=(3, 3), stride=(1, 1))\n",
      "  (bn5): BatchNorm2d(256, eps=1e-05, momentum=0.1, affine=True, track_running_stats=True)\n",
      "  (conv6): Conv2d(256, 256, kernel_size=(3, 3), stride=(2, 2))\n",
      "  (bn6): BatchNorm2d(256, eps=1e-05, momentum=0.1, affine=True, track_running_stats=True)\n",
      "  (pool3): MaxPool2d(kernel_size=2, stride=2, padding=0, dilation=1, ceil_mode=False)\n",
      "  (conv8): Conv2d(256, 128, kernel_size=(2, 2), stride=(1, 1))\n",
      "  (bn8): BatchNorm2d(128, eps=1e-05, momentum=0.1, affine=True, track_running_stats=True)\n",
      "  (fc1): Linear(in_features=18432, out_features=256, bias=True)\n",
      "  (fc2): Linear(in_features=256, out_features=128, bias=True)\n",
      "  (dropout): Dropout(p=0.35, inplace=False)\n",
      "  (fc3): Linear(in_features=128, out_features=32, bias=True)\n",
      "  (fc4): Linear(in_features=32, out_features=7, bias=True)\n",
      "  (localization): Sequential(\n",
      "    (0): Conv2d(1, 8, kernel_size=(7, 7), stride=(1, 1))\n",
      "    (1): MaxPool2d(kernel_size=2, stride=2, padding=0, dilation=1, ceil_mode=False)\n",
      "    (2): ReLU(inplace=True)\n",
      "    (3): Conv2d(8, 10, kernel_size=(5, 5), stride=(1, 1))\n",
      "    (4): MaxPool2d(kernel_size=2, stride=2, padding=0, dilation=1, ceil_mode=False)\n",
      "    (5): ReLU(inplace=True)\n",
      "  )\n",
      "  (fc_loc): Sequential(\n",
      "    (0): Linear(in_features=28090, out_features=32, bias=True)\n",
      "    (1): ReLU(inplace=True)\n",
      "    (2): Linear(in_features=32, out_features=6, bias=True)\n",
      "  )\n",
      ")\n"
     ]
    }
   ],
   "source": [
    "# Create an instance of the model\n",
    "model_jaffe = DeepFER()\n",
    "\n",
    "# Print the model architecture\n",
    "print(model_jaffe)"
   ]
  },
  {
   "cell_type": "markdown",
   "id": "1e4dfe76",
   "metadata": {},
   "source": [
    "### JAFFE Dataset Training and Testing"
   ]
  },
  {
   "cell_type": "code",
   "execution_count": 4,
   "id": "e339f402",
   "metadata": {},
   "outputs": [
    {
     "name": "stdout",
     "output_type": "stream",
     "text": [
      "----------------------------------------------------------------\n",
      "        Layer (type)               Output Shape         Param #\n",
      "================================================================\n",
      "            Conv2d-1         [-1, 32, 250, 250]           1,600\n",
      "       BatchNorm2d-2         [-1, 32, 250, 250]              64\n",
      "            Conv2d-3         [-1, 64, 246, 246]          51,264\n",
      "       BatchNorm2d-4         [-1, 64, 246, 246]             128\n",
      "         MaxPool2d-5         [-1, 64, 123, 123]               0\n",
      "            Conv2d-6        [-1, 128, 119, 119]         204,928\n",
      "       BatchNorm2d-7        [-1, 128, 119, 119]             256\n",
      "            Conv2d-8        [-1, 128, 117, 117]         147,584\n",
      "       BatchNorm2d-9        [-1, 128, 117, 117]             256\n",
      "        MaxPool2d-10          [-1, 128, 58, 58]               0\n",
      "           Conv2d-11          [-1, 256, 56, 56]         295,168\n",
      "      BatchNorm2d-12          [-1, 256, 56, 56]             512\n",
      "           Conv2d-13          [-1, 256, 27, 27]         590,080\n",
      "      BatchNorm2d-14          [-1, 256, 27, 27]             512\n",
      "        MaxPool2d-15          [-1, 256, 13, 13]               0\n",
      "           Conv2d-16          [-1, 128, 12, 12]         131,200\n",
      "      BatchNorm2d-17          [-1, 128, 12, 12]             256\n",
      "           Linear-18                  [-1, 256]       4,718,848\n",
      "           Linear-19                  [-1, 128]          32,896\n",
      "          Dropout-20                  [-1, 128]               0\n",
      "           Linear-21                   [-1, 32]           4,128\n",
      "           Linear-22                    [-1, 7]             231\n",
      "================================================================\n",
      "Total params: 6,179,911\n",
      "Trainable params: 6,179,911\n",
      "Non-trainable params: 0\n",
      "----------------------------------------------------------------\n",
      "Input size (MB): 0.25\n",
      "Forward/backward pass size (MB): 170.40\n",
      "Params size (MB): 23.57\n",
      "Estimated Total Size (MB): 194.22\n",
      "----------------------------------------------------------------\n"
     ]
    }
   ],
   "source": [
    "from torchsummary import summary\n",
    "\n",
    "# Move the model to the device\n",
    "device = torch.device('cuda' if torch.cuda.is_available() else 'cpu')\n",
    "model_jaffe.to(device)\n",
    "\n",
    "# Specify input size (assuming grayscale images of size 48x48)\n",
    "input_size = (1, 256, 256)  # (channels, height, width)\n",
    "\n",
    "# Print the model summary\n",
    "summary(model_jaffe, input_size=input_size)"
   ]
  },
  {
   "cell_type": "code",
   "execution_count": 5,
   "id": "5a036826",
   "metadata": {},
   "outputs": [
    {
     "name": "stdout",
     "output_type": "stream",
     "text": [
      "Total samples\t\t : 1335\n",
      "Train samples\t\t : 935  (70%)\n",
      "Validation samples\t : 140  (10%)\n",
      "Test samples\t\t : 260  (20%)\n",
      "Number of classes\t : 7\n"
     ]
    }
   ],
   "source": [
    "from torchvision import transforms\n",
    "from torchvision.datasets import ImageFolder\n",
    "from torch.utils.data import DataLoader, random_split\n",
    "\n",
    "# Set your data directory\n",
    "data_dir = \"M:\\\\Datasets\\\\Facial Expression Datasets\\\\JAFFE_Cropped\"\n",
    "\n",
    "# List of class names\n",
    "class_names = ['angry', 'disgust', 'fear', 'happy', 'neutral', 'sad', 'surprise']\n",
    "\n",
    "# Define image transformations\n",
    "transform = transforms.Compose([\n",
    "    transforms.Grayscale(num_output_channels=1),  # Convert to grayscale\n",
    "    transforms.Resize((256, 256)),  # Resize to 256x256\n",
    "    transforms.ToTensor()  # Convert to tensor\n",
    "])\n",
    "\n",
    "# Load the dataset\n",
    "dataset = ImageFolder(root=data_dir, transform=transform)\n",
    "\n",
    "# Calculate sizes for train, validation, and test sets\n",
    "total_samples = len(dataset)\n",
    "train_size = int(0.701 * total_samples)\n",
    "val_size = int(0.105 * total_samples)\n",
    "test_size = total_samples - train_size - val_size\n",
    "\n",
    "# Split the dataset into train, validation, and test sets\n",
    "train_data, val_data, test_data = random_split(dataset, [train_size, val_size, test_size])\n",
    "\n",
    "# Define batch size for dataloaders\n",
    "batch_size = 16\n",
    "\n",
    "# Create data loaders\n",
    "train_loader = DataLoader(train_data, batch_size=batch_size, shuffle=True)\n",
    "val_loader = DataLoader(val_data, batch_size=batch_size, shuffle=False)\n",
    "test_loader = DataLoader(test_data, batch_size=batch_size, shuffle=False)\n",
    "\n",
    "train_pr = int(len(train_data)/total_samples*100)\n",
    "val_pr = int(len(val_data)/total_samples*100)\n",
    "test_pr = int(round(len(test_data)/total_samples*100+0.05))\n",
    "\n",
    "# Print some information about the dataset\n",
    "print(f\"Total samples\\t\\t : {total_samples}\")\n",
    "print(f\"Train samples\\t\\t : {len(train_data)}  ({train_pr}%)\")\n",
    "print(f\"Validation samples\\t : {len(val_data)}  ({val_pr}%)\")\n",
    "print(f\"Test samples\\t\\t : {len(test_data)}  ({test_pr}%)\")\n",
    "print(f\"Number of classes\\t : {len(class_names)}\")"
   ]
  },
  {
   "cell_type": "code",
   "execution_count": 6,
   "id": "092e3463",
   "metadata": {},
   "outputs": [],
   "source": [
    "# Create an instance of the model and move it to GPU\n",
    "device = torch.device('cuda' if torch.cuda.is_available() else 'cpu')\n",
    "model_jaffe = DeepFER().to(device)"
   ]
  },
  {
   "cell_type": "code",
   "execution_count": 7,
   "id": "c20f3b62",
   "metadata": {},
   "outputs": [],
   "source": [
    "import torch.optim as optim\n",
    "import time\n",
    "from tqdm import tqdm\n",
    "\n",
    "criterion = nn.CrossEntropyLoss()\n",
    "\n",
    "# Hyperparameters\n",
    "learning_rate = 1e-5\n",
    "weight_decay = 1e-8  # L2 regularization\n",
    "learning_rate_decay = 0.98  # Learning rate decay per epoch\n",
    "\n",
    "# Adam parameters\n",
    "beta1 = 0.99\n",
    "beta2 = 0.999\n",
    "epsilon = 1e-9\n",
    "\n",
    "# Define the optimizer\n",
    "optimizer = optim.Adam(\n",
    "    model_jaffe.parameters(),\n",
    "    lr=learning_rate,\n",
    "    betas=(beta1, beta2),\n",
    "    eps=epsilon,\n",
    "    weight_decay=weight_decay\n",
    ")\n",
    "\n",
    "# Initialize variables for early stopping\n",
    "best_val_loss = float('inf')\n",
    "current_patience = 0\n",
    "max_patience = 5  # Patience for early stopping\n",
    "\n",
    "# Learning rate scheduler\n",
    "scheduler = optim.lr_scheduler.ExponentialLR(optimizer, gamma=learning_rate_decay)"
   ]
  },
  {
   "cell_type": "code",
   "execution_count": 8,
   "id": "010cdba3",
   "metadata": {},
   "outputs": [
    {
     "name": "stderr",
     "output_type": "stream",
     "text": [
      "                                                                                                                       \r"
     ]
    },
    {
     "name": "stdout",
     "output_type": "stream",
     "text": [
      "Epoch [1/200] - Train Loss: 1.9300, Train Acc: 0.1743, Val Loss: 1.9228, Val Acc: 0.1571, Time: 9.17 seconds\n"
     ]
    },
    {
     "name": "stderr",
     "output_type": "stream",
     "text": [
      "                                                                                                                       \r"
     ]
    },
    {
     "name": "stdout",
     "output_type": "stream",
     "text": [
      "Epoch [2/200] - Train Loss: 1.8683, Train Acc: 0.3230, Val Loss: 1.8421, Val Acc: 0.3786, Time: 8.75 seconds\n"
     ]
    },
    {
     "name": "stderr",
     "output_type": "stream",
     "text": [
      "                                                                                                                       \r"
     ]
    },
    {
     "name": "stdout",
     "output_type": "stream",
     "text": [
      "Epoch [3/200] - Train Loss: 1.7750, Train Acc: 0.4717, Val Loss: 1.7524, Val Acc: 0.5357, Time: 8.91 seconds\n"
     ]
    },
    {
     "name": "stderr",
     "output_type": "stream",
     "text": [
      "                                                                                                                       \r"
     ]
    },
    {
     "name": "stdout",
     "output_type": "stream",
     "text": [
      "Epoch [4/200] - Train Loss: 1.6775, Train Acc: 0.5144, Val Loss: 1.6579, Val Acc: 0.5500, Time: 8.59 seconds\n"
     ]
    },
    {
     "name": "stderr",
     "output_type": "stream",
     "text": [
      "                                                                                                                       \r"
     ]
    },
    {
     "name": "stdout",
     "output_type": "stream",
     "text": [
      "Epoch [5/200] - Train Loss: 1.5605, Train Acc: 0.5882, Val Loss: 1.5392, Val Acc: 0.6071, Time: 8.43 seconds\n"
     ]
    },
    {
     "name": "stderr",
     "output_type": "stream",
     "text": [
      "                                                                                                                       \r"
     ]
    },
    {
     "name": "stdout",
     "output_type": "stream",
     "text": [
      "Epoch [6/200] - Train Loss: 1.4275, Train Acc: 0.6610, Val Loss: 1.4240, Val Acc: 0.6643, Time: 8.43 seconds\n"
     ]
    },
    {
     "name": "stderr",
     "output_type": "stream",
     "text": [
      "                                                                                                                       \r"
     ]
    },
    {
     "name": "stdout",
     "output_type": "stream",
     "text": [
      "Epoch [7/200] - Train Loss: 1.3026, Train Acc: 0.7251, Val Loss: 1.3099, Val Acc: 0.7000, Time: 8.42 seconds\n"
     ]
    },
    {
     "name": "stderr",
     "output_type": "stream",
     "text": [
      "                                                                                                                       \r"
     ]
    },
    {
     "name": "stdout",
     "output_type": "stream",
     "text": [
      "Epoch [8/200] - Train Loss: 1.1838, Train Acc: 0.7743, Val Loss: 1.2007, Val Acc: 0.7214, Time: 8.64 seconds\n"
     ]
    },
    {
     "name": "stderr",
     "output_type": "stream",
     "text": [
      "                                                                                                                       \r"
     ]
    },
    {
     "name": "stdout",
     "output_type": "stream",
     "text": [
      "Epoch [9/200] - Train Loss: 1.0544, Train Acc: 0.8011, Val Loss: 1.0940, Val Acc: 0.7571, Time: 8.45 seconds\n"
     ]
    },
    {
     "name": "stderr",
     "output_type": "stream",
     "text": [
      "                                                                                                                       \r"
     ]
    },
    {
     "name": "stdout",
     "output_type": "stream",
     "text": [
      "Epoch [10/200] - Train Loss: 0.9201, Train Acc: 0.8417, Val Loss: 0.9889, Val Acc: 0.7714, Time: 8.82 seconds\n"
     ]
    },
    {
     "name": "stderr",
     "output_type": "stream",
     "text": [
      "                                                                                                                       \r"
     ]
    },
    {
     "name": "stdout",
     "output_type": "stream",
     "text": [
      "Epoch [11/200] - Train Loss: 0.8100, Train Acc: 0.8930, Val Loss: 0.8977, Val Acc: 0.8214, Time: 8.63 seconds\n"
     ]
    },
    {
     "name": "stderr",
     "output_type": "stream",
     "text": [
      "                                                                                                                       \r"
     ]
    },
    {
     "name": "stdout",
     "output_type": "stream",
     "text": [
      "Epoch [12/200] - Train Loss: 0.7119, Train Acc: 0.9048, Val Loss: 0.8206, Val Acc: 0.8500, Time: 8.53 seconds\n"
     ]
    },
    {
     "name": "stderr",
     "output_type": "stream",
     "text": [
      "                                                                                                                       \r"
     ]
    },
    {
     "name": "stdout",
     "output_type": "stream",
     "text": [
      "Epoch [13/200] - Train Loss: 0.6353, Train Acc: 0.9166, Val Loss: 0.7293, Val Acc: 0.8571, Time: 8.45 seconds\n"
     ]
    },
    {
     "name": "stderr",
     "output_type": "stream",
     "text": [
      "                                                                                                                       \r"
     ]
    },
    {
     "name": "stdout",
     "output_type": "stream",
     "text": [
      "Epoch [14/200] - Train Loss: 0.5172, Train Acc: 0.9422, Val Loss: 0.6769, Val Acc: 0.8714, Time: 8.50 seconds\n"
     ]
    },
    {
     "name": "stderr",
     "output_type": "stream",
     "text": [
      "                                                                                                                       \r"
     ]
    },
    {
     "name": "stdout",
     "output_type": "stream",
     "text": [
      "Epoch [15/200] - Train Loss: 0.4629, Train Acc: 0.9444, Val Loss: 0.6201, Val Acc: 0.8643, Time: 8.78 seconds\n"
     ]
    },
    {
     "name": "stderr",
     "output_type": "stream",
     "text": [
      "                                                                                                                       \r"
     ]
    },
    {
     "name": "stdout",
     "output_type": "stream",
     "text": [
      "Epoch [16/200] - Train Loss: 0.3987, Train Acc: 0.9658, Val Loss: 0.5647, Val Acc: 0.8714, Time: 8.96 seconds\n"
     ]
    },
    {
     "name": "stderr",
     "output_type": "stream",
     "text": [
      "                                                                                                                       \r"
     ]
    },
    {
     "name": "stdout",
     "output_type": "stream",
     "text": [
      "Epoch [17/200] - Train Loss: 0.3315, Train Acc: 0.9850, Val Loss: 0.5194, Val Acc: 0.8929, Time: 8.96 seconds\n"
     ]
    },
    {
     "name": "stderr",
     "output_type": "stream",
     "text": [
      "                                                                                                                       \r"
     ]
    },
    {
     "name": "stdout",
     "output_type": "stream",
     "text": [
      "Epoch [18/200] - Train Loss: 0.2889, Train Acc: 0.9829, Val Loss: 0.4944, Val Acc: 0.8786, Time: 8.79 seconds\n"
     ]
    },
    {
     "name": "stderr",
     "output_type": "stream",
     "text": [
      "                                                                                                                       \r"
     ]
    },
    {
     "name": "stdout",
     "output_type": "stream",
     "text": [
      "Epoch [19/200] - Train Loss: 0.2225, Train Acc: 0.9925, Val Loss: 0.4565, Val Acc: 0.8786, Time: 8.61 seconds\n"
     ]
    },
    {
     "name": "stderr",
     "output_type": "stream",
     "text": [
      "                                                                                                                       \r"
     ]
    },
    {
     "name": "stdout",
     "output_type": "stream",
     "text": [
      "Epoch [20/200] - Train Loss: 0.2070, Train Acc: 0.9936, Val Loss: 0.4322, Val Acc: 0.9071, Time: 8.71 seconds\n"
     ]
    },
    {
     "name": "stderr",
     "output_type": "stream",
     "text": [
      "                                                                                                                       \r"
     ]
    },
    {
     "name": "stdout",
     "output_type": "stream",
     "text": [
      "Epoch [21/200] - Train Loss: 0.1824, Train Acc: 0.9936, Val Loss: 0.4092, Val Acc: 0.8857, Time: 8.60 seconds\n"
     ]
    },
    {
     "name": "stderr",
     "output_type": "stream",
     "text": [
      "                                                                                                                       \r"
     ]
    },
    {
     "name": "stdout",
     "output_type": "stream",
     "text": [
      "Epoch [22/200] - Train Loss: 0.1531, Train Acc: 0.9957, Val Loss: 0.3966, Val Acc: 0.8929, Time: 8.69 seconds\n"
     ]
    },
    {
     "name": "stderr",
     "output_type": "stream",
     "text": [
      "                                                                                                                       \r"
     ]
    },
    {
     "name": "stdout",
     "output_type": "stream",
     "text": [
      "Epoch [23/200] - Train Loss: 0.1401, Train Acc: 0.9968, Val Loss: 0.3796, Val Acc: 0.9000, Time: 8.50 seconds\n"
     ]
    },
    {
     "name": "stderr",
     "output_type": "stream",
     "text": [
      "                                                                                                                       \r"
     ]
    },
    {
     "name": "stdout",
     "output_type": "stream",
     "text": [
      "Epoch [24/200] - Train Loss: 0.1146, Train Acc: 0.9979, Val Loss: 0.3656, Val Acc: 0.9000, Time: 8.48 seconds\n"
     ]
    },
    {
     "name": "stderr",
     "output_type": "stream",
     "text": [
      "                                                                                                                       \r"
     ]
    },
    {
     "name": "stdout",
     "output_type": "stream",
     "text": [
      "Epoch [25/200] - Train Loss: 0.0983, Train Acc: 0.9968, Val Loss: 0.3603, Val Acc: 0.9000, Time: 8.53 seconds\n"
     ]
    },
    {
     "name": "stderr",
     "output_type": "stream",
     "text": [
      "                                                                                                                       \r"
     ]
    },
    {
     "name": "stdout",
     "output_type": "stream",
     "text": [
      "Epoch [26/200] - Train Loss: 0.0972, Train Acc: 0.9979, Val Loss: 0.3560, Val Acc: 0.9071, Time: 8.48 seconds\n"
     ]
    },
    {
     "name": "stderr",
     "output_type": "stream",
     "text": [
      "                                                                                                                       \r"
     ]
    },
    {
     "name": "stdout",
     "output_type": "stream",
     "text": [
      "Epoch [27/200] - Train Loss: 0.0808, Train Acc: 0.9989, Val Loss: 0.3515, Val Acc: 0.9000, Time: 8.66 seconds\n"
     ]
    },
    {
     "name": "stderr",
     "output_type": "stream",
     "text": [
      "                                                                                                                       \r"
     ]
    },
    {
     "name": "stdout",
     "output_type": "stream",
     "text": [
      "Epoch [28/200] - Train Loss: 0.0717, Train Acc: 0.9989, Val Loss: 0.3490, Val Acc: 0.9071, Time: 8.60 seconds\n"
     ]
    },
    {
     "name": "stderr",
     "output_type": "stream",
     "text": [
      "                                                                                                                       \r"
     ]
    },
    {
     "name": "stdout",
     "output_type": "stream",
     "text": [
      "Epoch [29/200] - Train Loss: 0.0634, Train Acc: 1.0000, Val Loss: 0.3401, Val Acc: 0.9071, Time: 9.03 seconds\n"
     ]
    },
    {
     "name": "stderr",
     "output_type": "stream",
     "text": [
      "                                                                                                                       \r"
     ]
    },
    {
     "name": "stdout",
     "output_type": "stream",
     "text": [
      "Epoch [30/200] - Train Loss: 0.0569, Train Acc: 1.0000, Val Loss: 0.3228, Val Acc: 0.9000, Time: 9.06 seconds\n"
     ]
    },
    {
     "name": "stderr",
     "output_type": "stream",
     "text": [
      "                                                                                                                       \r"
     ]
    },
    {
     "name": "stdout",
     "output_type": "stream",
     "text": [
      "Epoch [31/200] - Train Loss: 0.0506, Train Acc: 1.0000, Val Loss: 0.3230, Val Acc: 0.9143, Time: 9.35 seconds\n"
     ]
    },
    {
     "name": "stderr",
     "output_type": "stream",
     "text": [
      "                                                                                                                       \r"
     ]
    },
    {
     "name": "stdout",
     "output_type": "stream",
     "text": [
      "Epoch [32/200] - Train Loss: 0.0446, Train Acc: 1.0000, Val Loss: 0.3184, Val Acc: 0.9000, Time: 9.06 seconds\n"
     ]
    },
    {
     "name": "stderr",
     "output_type": "stream",
     "text": [
      "                                                                                                                       \r"
     ]
    },
    {
     "name": "stdout",
     "output_type": "stream",
     "text": [
      "Epoch [33/200] - Train Loss: 0.0426, Train Acc: 0.9979, Val Loss: 0.3203, Val Acc: 0.9071, Time: 8.83 seconds\n"
     ]
    },
    {
     "name": "stderr",
     "output_type": "stream",
     "text": [
      "                                                                                                                       \r"
     ]
    },
    {
     "name": "stdout",
     "output_type": "stream",
     "text": [
      "Epoch [34/200] - Train Loss: 0.0381, Train Acc: 0.9989, Val Loss: 0.3131, Val Acc: 0.9143, Time: 9.01 seconds\n"
     ]
    },
    {
     "name": "stderr",
     "output_type": "stream",
     "text": [
      "                                                                                                                       \r"
     ]
    },
    {
     "name": "stdout",
     "output_type": "stream",
     "text": [
      "Epoch [35/200] - Train Loss: 0.0344, Train Acc: 1.0000, Val Loss: 0.3151, Val Acc: 0.9143, Time: 8.55 seconds\n"
     ]
    },
    {
     "name": "stderr",
     "output_type": "stream",
     "text": [
      "                                                                                                                       \r"
     ]
    },
    {
     "name": "stdout",
     "output_type": "stream",
     "text": [
      "Epoch [36/200] - Train Loss: 0.0342, Train Acc: 0.9989, Val Loss: 0.3133, Val Acc: 0.9000, Time: 8.57 seconds\n"
     ]
    },
    {
     "name": "stderr",
     "output_type": "stream",
     "text": [
      "                                                                                                                       \r"
     ]
    },
    {
     "name": "stdout",
     "output_type": "stream",
     "text": [
      "Epoch [37/200] - Train Loss: 0.0277, Train Acc: 1.0000, Val Loss: 0.3076, Val Acc: 0.9071, Time: 8.36 seconds\n"
     ]
    },
    {
     "name": "stderr",
     "output_type": "stream",
     "text": [
      "                                                                                                                       \r"
     ]
    },
    {
     "name": "stdout",
     "output_type": "stream",
     "text": [
      "Epoch [38/200] - Train Loss: 0.0257, Train Acc: 1.0000, Val Loss: 0.3090, Val Acc: 0.9071, Time: 8.42 seconds\n"
     ]
    },
    {
     "name": "stderr",
     "output_type": "stream",
     "text": [
      "                                                                                                                       \r"
     ]
    },
    {
     "name": "stdout",
     "output_type": "stream",
     "text": [
      "Epoch [39/200] - Train Loss: 0.0265, Train Acc: 1.0000, Val Loss: 0.3053, Val Acc: 0.9071, Time: 8.52 seconds\n"
     ]
    },
    {
     "name": "stderr",
     "output_type": "stream",
     "text": [
      "                                                                                                                       \r"
     ]
    },
    {
     "name": "stdout",
     "output_type": "stream",
     "text": [
      "Epoch [40/200] - Train Loss: 0.0234, Train Acc: 1.0000, Val Loss: 0.3031, Val Acc: 0.9071, Time: 8.44 seconds\n"
     ]
    },
    {
     "name": "stderr",
     "output_type": "stream",
     "text": [
      "                                                                                                                       \r"
     ]
    },
    {
     "name": "stdout",
     "output_type": "stream",
     "text": [
      "Epoch [41/200] - Train Loss: 0.0215, Train Acc: 1.0000, Val Loss: 0.2940, Val Acc: 0.9143, Time: 9.22 seconds\n"
     ]
    },
    {
     "name": "stderr",
     "output_type": "stream",
     "text": [
      "                                                                                                                       \r"
     ]
    },
    {
     "name": "stdout",
     "output_type": "stream",
     "text": [
      "Epoch [42/200] - Train Loss: 0.0199, Train Acc: 1.0000, Val Loss: 0.3006, Val Acc: 0.9143, Time: 9.01 seconds\n"
     ]
    },
    {
     "name": "stderr",
     "output_type": "stream",
     "text": [
      "                                                                                                                       \r"
     ]
    },
    {
     "name": "stdout",
     "output_type": "stream",
     "text": [
      "Epoch [43/200] - Train Loss: 0.0195, Train Acc: 1.0000, Val Loss: 0.3053, Val Acc: 0.9143, Time: 9.96 seconds\n"
     ]
    },
    {
     "name": "stderr",
     "output_type": "stream",
     "text": [
      "                                                                                                                       \r"
     ]
    },
    {
     "name": "stdout",
     "output_type": "stream",
     "text": [
      "Epoch [44/200] - Train Loss: 0.0170, Train Acc: 1.0000, Val Loss: 0.2924, Val Acc: 0.9143, Time: 8.97 seconds\n"
     ]
    },
    {
     "name": "stderr",
     "output_type": "stream",
     "text": [
      "                                                                                                                       \r"
     ]
    },
    {
     "name": "stdout",
     "output_type": "stream",
     "text": [
      "Epoch [45/200] - Train Loss: 0.0159, Train Acc: 1.0000, Val Loss: 0.2965, Val Acc: 0.9143, Time: 8.71 seconds\n"
     ]
    },
    {
     "name": "stderr",
     "output_type": "stream",
     "text": [
      "                                                                                                                       \r"
     ]
    },
    {
     "name": "stdout",
     "output_type": "stream",
     "text": [
      "Epoch [46/200] - Train Loss: 0.0184, Train Acc: 0.9989, Val Loss: 0.3044, Val Acc: 0.9071, Time: 8.86 seconds\n"
     ]
    },
    {
     "name": "stderr",
     "output_type": "stream",
     "text": [
      "                                                                                                                       \r"
     ]
    },
    {
     "name": "stdout",
     "output_type": "stream",
     "text": [
      "Epoch [47/200] - Train Loss: 0.0126, Train Acc: 1.0000, Val Loss: 0.2935, Val Acc: 0.9143, Time: 8.80 seconds\n"
     ]
    },
    {
     "name": "stderr",
     "output_type": "stream",
     "text": [
      "                                                                                                                       \r"
     ]
    },
    {
     "name": "stdout",
     "output_type": "stream",
     "text": [
      "Epoch [48/200] - Train Loss: 0.0126, Train Acc: 1.0000, Val Loss: 0.2883, Val Acc: 0.9143, Time: 8.81 seconds\n"
     ]
    },
    {
     "name": "stderr",
     "output_type": "stream",
     "text": [
      "                                                                                                                       \r"
     ]
    },
    {
     "name": "stdout",
     "output_type": "stream",
     "text": [
      "Epoch [49/200] - Train Loss: 0.0123, Train Acc: 1.0000, Val Loss: 0.2906, Val Acc: 0.9143, Time: 8.74 seconds\n"
     ]
    },
    {
     "name": "stderr",
     "output_type": "stream",
     "text": [
      "                                                                                                                       \r"
     ]
    },
    {
     "name": "stdout",
     "output_type": "stream",
     "text": [
      "Epoch [50/200] - Train Loss: 0.0110, Train Acc: 1.0000, Val Loss: 0.2959, Val Acc: 0.9143, Time: 8.81 seconds\n"
     ]
    },
    {
     "name": "stderr",
     "output_type": "stream",
     "text": [
      "                                                                                                                       \r"
     ]
    },
    {
     "name": "stdout",
     "output_type": "stream",
     "text": [
      "Epoch [51/200] - Train Loss: 0.0103, Train Acc: 1.0000, Val Loss: 0.2962, Val Acc: 0.9143, Time: 8.51 seconds\n"
     ]
    },
    {
     "name": "stderr",
     "output_type": "stream",
     "text": [
      "                                                                                                                       \r"
     ]
    },
    {
     "name": "stdout",
     "output_type": "stream",
     "text": [
      "Epoch [52/200] - Train Loss: 0.0104, Train Acc: 1.0000, Val Loss: 0.2957, Val Acc: 0.9071, Time: 8.80 seconds\n"
     ]
    },
    {
     "name": "stderr",
     "output_type": "stream",
     "text": [
      "                                                                                                                       \r"
     ]
    },
    {
     "name": "stdout",
     "output_type": "stream",
     "text": [
      "Epoch [53/200] - Train Loss: 0.0094, Train Acc: 1.0000, Val Loss: 0.2959, Val Acc: 0.9071, Time: 8.57 seconds\n"
     ]
    },
    {
     "name": "stderr",
     "output_type": "stream",
     "text": [
      "                                                                                                                       \r"
     ]
    },
    {
     "name": "stdout",
     "output_type": "stream",
     "text": [
      "Epoch [54/200] - Train Loss: 0.0097, Train Acc: 1.0000, Val Loss: 0.2948, Val Acc: 0.9143, Time: 8.45 seconds\n"
     ]
    },
    {
     "name": "stderr",
     "output_type": "stream",
     "text": [
      "                                                                                                                       \r"
     ]
    },
    {
     "name": "stdout",
     "output_type": "stream",
     "text": [
      "Epoch [55/200] - Train Loss: 0.0076, Train Acc: 1.0000, Val Loss: 0.2866, Val Acc: 0.9143, Time: 8.59 seconds\n"
     ]
    },
    {
     "name": "stderr",
     "output_type": "stream",
     "text": [
      "                                                                                                                       \r"
     ]
    },
    {
     "name": "stdout",
     "output_type": "stream",
     "text": [
      "Epoch [56/200] - Train Loss: 0.0081, Train Acc: 1.0000, Val Loss: 0.2815, Val Acc: 0.9143, Time: 8.71 seconds\n"
     ]
    },
    {
     "name": "stderr",
     "output_type": "stream",
     "text": [
      "                                                                                                                       \r"
     ]
    },
    {
     "name": "stdout",
     "output_type": "stream",
     "text": [
      "Epoch [57/200] - Train Loss: 0.0090, Train Acc: 1.0000, Val Loss: 0.2833, Val Acc: 0.9214, Time: 8.38 seconds\n"
     ]
    },
    {
     "name": "stderr",
     "output_type": "stream",
     "text": [
      "                                                                                                                       \r"
     ]
    },
    {
     "name": "stdout",
     "output_type": "stream",
     "text": [
      "Epoch [58/200] - Train Loss: 0.0068, Train Acc: 1.0000, Val Loss: 0.2851, Val Acc: 0.9143, Time: 8.57 seconds\n"
     ]
    },
    {
     "name": "stderr",
     "output_type": "stream",
     "text": [
      "                                                                                                                       \r"
     ]
    },
    {
     "name": "stdout",
     "output_type": "stream",
     "text": [
      "Epoch [59/200] - Train Loss: 0.0077, Train Acc: 1.0000, Val Loss: 0.2891, Val Acc: 0.9143, Time: 8.66 seconds\n"
     ]
    },
    {
     "name": "stderr",
     "output_type": "stream",
     "text": [
      "                                                                                                                       \r"
     ]
    },
    {
     "name": "stdout",
     "output_type": "stream",
     "text": [
      "Epoch [60/200] - Train Loss: 0.0074, Train Acc: 1.0000, Val Loss: 0.2823, Val Acc: 0.9143, Time: 8.93 seconds\n"
     ]
    },
    {
     "name": "stderr",
     "output_type": "stream",
     "text": [
      "                                                                                                                       \r"
     ]
    },
    {
     "name": "stdout",
     "output_type": "stream",
     "text": [
      "Epoch [61/200] - Train Loss: 0.0068, Train Acc: 1.0000, Val Loss: 0.2780, Val Acc: 0.9071, Time: 8.98 seconds\n"
     ]
    },
    {
     "name": "stderr",
     "output_type": "stream",
     "text": [
      "                                                                                                                       \r"
     ]
    },
    {
     "name": "stdout",
     "output_type": "stream",
     "text": [
      "Epoch [62/200] - Train Loss: 0.0057, Train Acc: 1.0000, Val Loss: 0.2826, Val Acc: 0.9071, Time: 8.48 seconds\n"
     ]
    },
    {
     "name": "stderr",
     "output_type": "stream",
     "text": [
      "                                                                                                                       \r"
     ]
    },
    {
     "name": "stdout",
     "output_type": "stream",
     "text": [
      "Epoch [63/200] - Train Loss: 0.0053, Train Acc: 1.0000, Val Loss: 0.2795, Val Acc: 0.9214, Time: 8.74 seconds\n"
     ]
    },
    {
     "name": "stderr",
     "output_type": "stream",
     "text": [
      "                                                                                                                       \r"
     ]
    },
    {
     "name": "stdout",
     "output_type": "stream",
     "text": [
      "Epoch [64/200] - Train Loss: 0.0050, Train Acc: 1.0000, Val Loss: 0.2786, Val Acc: 0.9143, Time: 8.72 seconds\n"
     ]
    },
    {
     "name": "stderr",
     "output_type": "stream",
     "text": [
      "                                                                                                                       \r"
     ]
    },
    {
     "name": "stdout",
     "output_type": "stream",
     "text": [
      "Epoch [65/200] - Train Loss: 0.0045, Train Acc: 1.0000, Val Loss: 0.2816, Val Acc: 0.9143, Time: 8.43 seconds\n"
     ]
    },
    {
     "name": "stderr",
     "output_type": "stream",
     "text": [
      "                                                                                                                       \r"
     ]
    },
    {
     "name": "stdout",
     "output_type": "stream",
     "text": [
      "Epoch [66/200] - Train Loss: 0.0045, Train Acc: 1.0000, Val Loss: 0.2843, Val Acc: 0.9214, Time: 8.88 seconds\n"
     ]
    },
    {
     "name": "stderr",
     "output_type": "stream",
     "text": [
      "                                                                                                                       \r"
     ]
    },
    {
     "name": "stdout",
     "output_type": "stream",
     "text": [
      "Epoch [67/200] - Train Loss: 0.0052, Train Acc: 1.0000, Val Loss: 0.2821, Val Acc: 0.9143, Time: 8.65 seconds\n"
     ]
    },
    {
     "name": "stderr",
     "output_type": "stream",
     "text": [
      "                                                                                                                       \r"
     ]
    },
    {
     "name": "stdout",
     "output_type": "stream",
     "text": [
      "Epoch [68/200] - Train Loss: 0.0043, Train Acc: 1.0000, Val Loss: 0.2844, Val Acc: 0.9143, Time: 9.03 seconds\n"
     ]
    },
    {
     "name": "stderr",
     "output_type": "stream",
     "text": [
      "                                                                                                                       \r"
     ]
    },
    {
     "name": "stdout",
     "output_type": "stream",
     "text": [
      "Epoch [69/200] - Train Loss: 0.0052, Train Acc: 1.0000, Val Loss: 0.2933, Val Acc: 0.9071, Time: 8.59 seconds\n"
     ]
    },
    {
     "name": "stderr",
     "output_type": "stream",
     "text": [
      "                                                                                                                       \r"
     ]
    },
    {
     "name": "stdout",
     "output_type": "stream",
     "text": [
      "Epoch [70/200] - Train Loss: 0.0048, Train Acc: 1.0000, Val Loss: 0.2953, Val Acc: 0.9143, Time: 8.87 seconds\n"
     ]
    },
    {
     "name": "stderr",
     "output_type": "stream",
     "text": [
      "                                                                                                                       \r"
     ]
    },
    {
     "name": "stdout",
     "output_type": "stream",
     "text": [
      "Epoch [71/200] - Train Loss: 0.0051, Train Acc: 0.9989, Val Loss: 0.3004, Val Acc: 0.9071, Time: 8.45 seconds\n"
     ]
    },
    {
     "name": "stderr",
     "output_type": "stream",
     "text": [
      "                                                                                                                       \r"
     ]
    },
    {
     "name": "stdout",
     "output_type": "stream",
     "text": [
      "Epoch [72/200] - Train Loss: 0.0044, Train Acc: 1.0000, Val Loss: 0.2950, Val Acc: 0.9143, Time: 8.41 seconds\n"
     ]
    },
    {
     "name": "stderr",
     "output_type": "stream",
     "text": [
      "                                                                                                                       \r"
     ]
    },
    {
     "name": "stdout",
     "output_type": "stream",
     "text": [
      "Epoch [73/200] - Train Loss: 0.0038, Train Acc: 1.0000, Val Loss: 0.2928, Val Acc: 0.9214, Time: 8.63 seconds\n"
     ]
    },
    {
     "name": "stderr",
     "output_type": "stream",
     "text": [
      "                                                                                                                       \r"
     ]
    },
    {
     "name": "stdout",
     "output_type": "stream",
     "text": [
      "Epoch [74/200] - Train Loss: 0.0032, Train Acc: 1.0000, Val Loss: 0.2866, Val Acc: 0.9143, Time: 8.45 seconds\n"
     ]
    },
    {
     "name": "stderr",
     "output_type": "stream",
     "text": [
      "                                                                                                                       \r"
     ]
    },
    {
     "name": "stdout",
     "output_type": "stream",
     "text": [
      "Epoch [75/200] - Train Loss: 0.0038, Train Acc: 1.0000, Val Loss: 0.2957, Val Acc: 0.9143, Time: 8.50 seconds\n"
     ]
    },
    {
     "name": "stderr",
     "output_type": "stream",
     "text": [
      "                                                                                                                       \r"
     ]
    },
    {
     "name": "stdout",
     "output_type": "stream",
     "text": [
      "Epoch [76/200] - Train Loss: 0.0029, Train Acc: 1.0000, Val Loss: 0.3022, Val Acc: 0.9143, Time: 8.50 seconds\n"
     ]
    },
    {
     "name": "stderr",
     "output_type": "stream",
     "text": [
      "                                                                                                                       \r"
     ]
    },
    {
     "name": "stdout",
     "output_type": "stream",
     "text": [
      "Epoch [77/200] - Train Loss: 0.0025, Train Acc: 1.0000, Val Loss: 0.2980, Val Acc: 0.9143, Time: 8.56 seconds\n"
     ]
    },
    {
     "name": "stderr",
     "output_type": "stream",
     "text": [
      "                                                                                                                       \r"
     ]
    },
    {
     "name": "stdout",
     "output_type": "stream",
     "text": [
      "Epoch [78/200] - Train Loss: 0.0025, Train Acc: 1.0000, Val Loss: 0.2881, Val Acc: 0.9143, Time: 8.40 seconds\n"
     ]
    },
    {
     "name": "stderr",
     "output_type": "stream",
     "text": [
      "                                                                                                                       \r"
     ]
    },
    {
     "name": "stdout",
     "output_type": "stream",
     "text": [
      "Epoch [79/200] - Train Loss: 0.0028, Train Acc: 1.0000, Val Loss: 0.2879, Val Acc: 0.9143, Time: 8.37 seconds\n"
     ]
    },
    {
     "name": "stderr",
     "output_type": "stream",
     "text": [
      "                                                                                                                       \r"
     ]
    },
    {
     "name": "stdout",
     "output_type": "stream",
     "text": [
      "Epoch [80/200] - Train Loss: 0.0029, Train Acc: 1.0000, Val Loss: 0.2957, Val Acc: 0.9143, Time: 8.43 seconds\n"
     ]
    },
    {
     "name": "stderr",
     "output_type": "stream",
     "text": [
      "                                                                                                                       \r"
     ]
    },
    {
     "name": "stdout",
     "output_type": "stream",
     "text": [
      "Epoch [81/200] - Train Loss: 0.0027, Train Acc: 1.0000, Val Loss: 0.2851, Val Acc: 0.9143, Time: 8.43 seconds\n"
     ]
    },
    {
     "name": "stderr",
     "output_type": "stream",
     "text": [
      "                                                                                                                       \r"
     ]
    },
    {
     "name": "stdout",
     "output_type": "stream",
     "text": [
      "Epoch [82/200] - Train Loss: 0.0024, Train Acc: 1.0000, Val Loss: 0.2817, Val Acc: 0.9143, Time: 8.40 seconds\n"
     ]
    },
    {
     "name": "stderr",
     "output_type": "stream",
     "text": [
      "                                                                                                                       \r"
     ]
    },
    {
     "name": "stdout",
     "output_type": "stream",
     "text": [
      "Epoch [83/200] - Train Loss: 0.0025, Train Acc: 1.0000, Val Loss: 0.2831, Val Acc: 0.9143, Time: 8.40 seconds\n"
     ]
    },
    {
     "name": "stderr",
     "output_type": "stream",
     "text": [
      "                                                                                                                       \r"
     ]
    },
    {
     "name": "stdout",
     "output_type": "stream",
     "text": [
      "Epoch [84/200] - Train Loss: 0.0020, Train Acc: 1.0000, Val Loss: 0.2919, Val Acc: 0.9143, Time: 8.50 seconds\n"
     ]
    },
    {
     "name": "stderr",
     "output_type": "stream",
     "text": [
      "                                                                                                                       \r"
     ]
    },
    {
     "name": "stdout",
     "output_type": "stream",
     "text": [
      "Epoch [85/200] - Train Loss: 0.0019, Train Acc: 1.0000, Val Loss: 0.2894, Val Acc: 0.9214, Time: 8.41 seconds\n"
     ]
    },
    {
     "name": "stderr",
     "output_type": "stream",
     "text": [
      "                                                                                                                       \r"
     ]
    },
    {
     "name": "stdout",
     "output_type": "stream",
     "text": [
      "Epoch [86/200] - Train Loss: 0.0019, Train Acc: 1.0000, Val Loss: 0.2851, Val Acc: 0.9143, Time: 8.38 seconds\n"
     ]
    },
    {
     "name": "stderr",
     "output_type": "stream",
     "text": [
      "                                                                                                                       \r"
     ]
    },
    {
     "name": "stdout",
     "output_type": "stream",
     "text": [
      "Epoch [87/200] - Train Loss: 0.0021, Train Acc: 1.0000, Val Loss: 0.2826, Val Acc: 0.9071, Time: 8.43 seconds\n"
     ]
    },
    {
     "name": "stderr",
     "output_type": "stream",
     "text": [
      "                                                                                                                       \r"
     ]
    },
    {
     "name": "stdout",
     "output_type": "stream",
     "text": [
      "Epoch [88/200] - Train Loss: 0.0021, Train Acc: 1.0000, Val Loss: 0.2886, Val Acc: 0.9143, Time: 8.40 seconds\n"
     ]
    },
    {
     "name": "stderr",
     "output_type": "stream",
     "text": [
      "                                                                                                                       \r"
     ]
    },
    {
     "name": "stdout",
     "output_type": "stream",
     "text": [
      "Epoch [89/200] - Train Loss: 0.0018, Train Acc: 1.0000, Val Loss: 0.2905, Val Acc: 0.9214, Time: 8.46 seconds\n"
     ]
    },
    {
     "name": "stderr",
     "output_type": "stream",
     "text": [
      "                                                                                                                       \r"
     ]
    },
    {
     "name": "stdout",
     "output_type": "stream",
     "text": [
      "Epoch [90/200] - Train Loss: 0.0018, Train Acc: 1.0000, Val Loss: 0.2862, Val Acc: 0.9143, Time: 8.47 seconds\n"
     ]
    },
    {
     "name": "stderr",
     "output_type": "stream",
     "text": [
      "                                                                                                                       \r"
     ]
    },
    {
     "name": "stdout",
     "output_type": "stream",
     "text": [
      "Epoch [91/200] - Train Loss: 0.0017, Train Acc: 1.0000, Val Loss: 0.2826, Val Acc: 0.9071, Time: 8.47 seconds\n"
     ]
    },
    {
     "name": "stderr",
     "output_type": "stream",
     "text": [
      "                                                                                                                       \r"
     ]
    },
    {
     "name": "stdout",
     "output_type": "stream",
     "text": [
      "Epoch [92/200] - Train Loss: 0.0013, Train Acc: 1.0000, Val Loss: 0.2818, Val Acc: 0.9071, Time: 8.41 seconds\n"
     ]
    },
    {
     "name": "stderr",
     "output_type": "stream",
     "text": [
      "                                                                                                                       \r"
     ]
    },
    {
     "name": "stdout",
     "output_type": "stream",
     "text": [
      "Epoch [93/200] - Train Loss: 0.0014, Train Acc: 1.0000, Val Loss: 0.2823, Val Acc: 0.9071, Time: 8.39 seconds\n"
     ]
    },
    {
     "name": "stderr",
     "output_type": "stream",
     "text": [
      "                                                                                                                       \r"
     ]
    },
    {
     "name": "stdout",
     "output_type": "stream",
     "text": [
      "Epoch [94/200] - Train Loss: 0.0012, Train Acc: 1.0000, Val Loss: 0.2811, Val Acc: 0.9143, Time: 8.41 seconds\n"
     ]
    },
    {
     "name": "stderr",
     "output_type": "stream",
     "text": [
      "                                                                                                                       \r"
     ]
    },
    {
     "name": "stdout",
     "output_type": "stream",
     "text": [
      "Epoch [95/200] - Train Loss: 0.0018, Train Acc: 1.0000, Val Loss: 0.2872, Val Acc: 0.9143, Time: 8.43 seconds\n"
     ]
    },
    {
     "name": "stderr",
     "output_type": "stream",
     "text": [
      "                                                                                                                       \r"
     ]
    },
    {
     "name": "stdout",
     "output_type": "stream",
     "text": [
      "Epoch [96/200] - Train Loss: 0.0012, Train Acc: 1.0000, Val Loss: 0.2879, Val Acc: 0.9071, Time: 8.42 seconds\n"
     ]
    },
    {
     "name": "stderr",
     "output_type": "stream",
     "text": [
      "                                                                                                                       \r"
     ]
    },
    {
     "name": "stdout",
     "output_type": "stream",
     "text": [
      "Epoch [97/200] - Train Loss: 0.0017, Train Acc: 1.0000, Val Loss: 0.2879, Val Acc: 0.9143, Time: 8.41 seconds\n"
     ]
    },
    {
     "name": "stderr",
     "output_type": "stream",
     "text": [
      "                                                                                                                       \r"
     ]
    },
    {
     "name": "stdout",
     "output_type": "stream",
     "text": [
      "Epoch [98/200] - Train Loss: 0.0016, Train Acc: 1.0000, Val Loss: 0.2960, Val Acc: 0.9071, Time: 8.46 seconds\n"
     ]
    },
    {
     "name": "stderr",
     "output_type": "stream",
     "text": [
      "                                                                                                                       \r"
     ]
    },
    {
     "name": "stdout",
     "output_type": "stream",
     "text": [
      "Epoch [99/200] - Train Loss: 0.0010, Train Acc: 1.0000, Val Loss: 0.2953, Val Acc: 0.9071, Time: 8.40 seconds\n"
     ]
    },
    {
     "name": "stderr",
     "output_type": "stream",
     "text": [
      "                                                                                                                       \r"
     ]
    },
    {
     "name": "stdout",
     "output_type": "stream",
     "text": [
      "Epoch [100/200] - Train Loss: 0.0012, Train Acc: 1.0000, Val Loss: 0.2896, Val Acc: 0.9071, Time: 8.46 seconds\n"
     ]
    },
    {
     "name": "stderr",
     "output_type": "stream",
     "text": [
      "                                                                                                                       \r"
     ]
    },
    {
     "name": "stdout",
     "output_type": "stream",
     "text": [
      "Epoch [101/200] - Train Loss: 0.0012, Train Acc: 1.0000, Val Loss: 0.2881, Val Acc: 0.9214, Time: 8.42 seconds\n"
     ]
    },
    {
     "name": "stderr",
     "output_type": "stream",
     "text": [
      "                                                                                                                       \r"
     ]
    },
    {
     "name": "stdout",
     "output_type": "stream",
     "text": [
      "Epoch [102/200] - Train Loss: 0.0011, Train Acc: 1.0000, Val Loss: 0.2932, Val Acc: 0.9214, Time: 8.44 seconds\n"
     ]
    },
    {
     "name": "stderr",
     "output_type": "stream",
     "text": [
      "                                                                                                                       \r"
     ]
    },
    {
     "name": "stdout",
     "output_type": "stream",
     "text": [
      "Epoch [103/200] - Train Loss: 0.0009, Train Acc: 1.0000, Val Loss: 0.2879, Val Acc: 0.9143, Time: 8.39 seconds\n"
     ]
    },
    {
     "name": "stderr",
     "output_type": "stream",
     "text": [
      "                                                                                                                       \r"
     ]
    },
    {
     "name": "stdout",
     "output_type": "stream",
     "text": [
      "Epoch [104/200] - Train Loss: 0.0009, Train Acc: 1.0000, Val Loss: 0.2952, Val Acc: 0.9071, Time: 8.49 seconds\n"
     ]
    },
    {
     "name": "stderr",
     "output_type": "stream",
     "text": [
      "                                                                                                                       \r"
     ]
    },
    {
     "name": "stdout",
     "output_type": "stream",
     "text": [
      "Epoch [105/200] - Train Loss: 0.0008, Train Acc: 1.0000, Val Loss: 0.2931, Val Acc: 0.9143, Time: 8.47 seconds\n"
     ]
    },
    {
     "name": "stderr",
     "output_type": "stream",
     "text": [
      "                                                                                                                       \r"
     ]
    },
    {
     "name": "stdout",
     "output_type": "stream",
     "text": [
      "Epoch [106/200] - Train Loss: 0.0008, Train Acc: 1.0000, Val Loss: 0.2834, Val Acc: 0.9214, Time: 8.42 seconds\n"
     ]
    },
    {
     "name": "stderr",
     "output_type": "stream",
     "text": [
      "                                                                                                                       \r"
     ]
    },
    {
     "name": "stdout",
     "output_type": "stream",
     "text": [
      "Epoch [107/200] - Train Loss: 0.0009, Train Acc: 1.0000, Val Loss: 0.2802, Val Acc: 0.9214, Time: 8.42 seconds\n"
     ]
    },
    {
     "name": "stderr",
     "output_type": "stream",
     "text": [
      "                                                                                                                       \r"
     ]
    },
    {
     "name": "stdout",
     "output_type": "stream",
     "text": [
      "Epoch [108/200] - Train Loss: 0.0010, Train Acc: 1.0000, Val Loss: 0.2799, Val Acc: 0.9143, Time: 8.44 seconds\n"
     ]
    },
    {
     "name": "stderr",
     "output_type": "stream",
     "text": [
      "                                                                                                                       \r"
     ]
    },
    {
     "name": "stdout",
     "output_type": "stream",
     "text": [
      "Epoch [109/200] - Train Loss: 0.0007, Train Acc: 1.0000, Val Loss: 0.2803, Val Acc: 0.9143, Time: 8.45 seconds\n"
     ]
    },
    {
     "name": "stderr",
     "output_type": "stream",
     "text": [
      "                                                                                                                       \r"
     ]
    },
    {
     "name": "stdout",
     "output_type": "stream",
     "text": [
      "Epoch [110/200] - Train Loss: 0.0008, Train Acc: 1.0000, Val Loss: 0.2805, Val Acc: 0.9071, Time: 8.37 seconds\n"
     ]
    },
    {
     "name": "stderr",
     "output_type": "stream",
     "text": [
      "                                                                                                                       \r"
     ]
    },
    {
     "name": "stdout",
     "output_type": "stream",
     "text": [
      "Epoch [111/200] - Train Loss: 0.0008, Train Acc: 1.0000, Val Loss: 0.2777, Val Acc: 0.9214, Time: 8.46 seconds\n"
     ]
    },
    {
     "name": "stderr",
     "output_type": "stream",
     "text": [
      "                                                                                                                       \r"
     ]
    },
    {
     "name": "stdout",
     "output_type": "stream",
     "text": [
      "Epoch [112/200] - Train Loss: 0.0011, Train Acc: 1.0000, Val Loss: 0.2849, Val Acc: 0.9214, Time: 8.47 seconds\n"
     ]
    },
    {
     "name": "stderr",
     "output_type": "stream",
     "text": [
      "                                                                                                                       \r"
     ]
    },
    {
     "name": "stdout",
     "output_type": "stream",
     "text": [
      "Epoch [113/200] - Train Loss: 0.0006, Train Acc: 1.0000, Val Loss: 0.2737, Val Acc: 0.9214, Time: 8.44 seconds\n"
     ]
    },
    {
     "name": "stderr",
     "output_type": "stream",
     "text": [
      "                                                                                                                       \r"
     ]
    },
    {
     "name": "stdout",
     "output_type": "stream",
     "text": [
      "Epoch [114/200] - Train Loss: 0.0009, Train Acc: 1.0000, Val Loss: 0.2739, Val Acc: 0.9214, Time: 8.38 seconds\n"
     ]
    },
    {
     "name": "stderr",
     "output_type": "stream",
     "text": [
      "                                                                                                                       \r"
     ]
    },
    {
     "name": "stdout",
     "output_type": "stream",
     "text": [
      "Epoch [115/200] - Train Loss: 0.0006, Train Acc: 1.0000, Val Loss: 0.2844, Val Acc: 0.9214, Time: 8.36 seconds\n"
     ]
    },
    {
     "name": "stderr",
     "output_type": "stream",
     "text": [
      "                                                                                                                       \r"
     ]
    },
    {
     "name": "stdout",
     "output_type": "stream",
     "text": [
      "Epoch [116/200] - Train Loss: 0.0007, Train Acc: 1.0000, Val Loss: 0.2912, Val Acc: 0.9286, Time: 8.52 seconds\n"
     ]
    },
    {
     "name": "stderr",
     "output_type": "stream",
     "text": [
      "                                                                                                                       \r"
     ]
    },
    {
     "name": "stdout",
     "output_type": "stream",
     "text": [
      "Epoch [117/200] - Train Loss: 0.0007, Train Acc: 1.0000, Val Loss: 0.2914, Val Acc: 0.9214, Time: 8.40 seconds\n"
     ]
    },
    {
     "name": "stderr",
     "output_type": "stream",
     "text": [
      "                                                                                                                       \r"
     ]
    },
    {
     "name": "stdout",
     "output_type": "stream",
     "text": [
      "Epoch [118/200] - Train Loss: 0.0007, Train Acc: 1.0000, Val Loss: 0.2984, Val Acc: 0.9143, Time: 8.81 seconds\n"
     ]
    },
    {
     "name": "stderr",
     "output_type": "stream",
     "text": [
      "                                                                                                                       \r"
     ]
    },
    {
     "name": "stdout",
     "output_type": "stream",
     "text": [
      "Epoch [119/200] - Train Loss: 0.0006, Train Acc: 1.0000, Val Loss: 0.3028, Val Acc: 0.9143, Time: 8.51 seconds\n"
     ]
    },
    {
     "name": "stderr",
     "output_type": "stream",
     "text": [
      "                                                                                                                       \r"
     ]
    },
    {
     "name": "stdout",
     "output_type": "stream",
     "text": [
      "Epoch [120/200] - Train Loss: 0.0006, Train Acc: 1.0000, Val Loss: 0.3035, Val Acc: 0.9214, Time: 8.58 seconds\n"
     ]
    },
    {
     "name": "stderr",
     "output_type": "stream",
     "text": [
      "                                                                                                                       \r"
     ]
    },
    {
     "name": "stdout",
     "output_type": "stream",
     "text": [
      "Epoch [121/200] - Train Loss: 0.0005, Train Acc: 1.0000, Val Loss: 0.2977, Val Acc: 0.9214, Time: 8.58 seconds\n"
     ]
    },
    {
     "name": "stderr",
     "output_type": "stream",
     "text": [
      "                                                                                                                       \r"
     ]
    },
    {
     "name": "stdout",
     "output_type": "stream",
     "text": [
      "Epoch [122/200] - Train Loss: 0.0009, Train Acc: 1.0000, Val Loss: 0.3044, Val Acc: 0.9143, Time: 8.37 seconds\n"
     ]
    },
    {
     "name": "stderr",
     "output_type": "stream",
     "text": [
      "                                                                                                                       \r"
     ]
    },
    {
     "name": "stdout",
     "output_type": "stream",
     "text": [
      "Epoch [123/200] - Train Loss: 0.0008, Train Acc: 1.0000, Val Loss: 0.3281, Val Acc: 0.9143, Time: 8.45 seconds\n"
     ]
    },
    {
     "name": "stderr",
     "output_type": "stream",
     "text": [
      "                                                                                                                       \r"
     ]
    },
    {
     "name": "stdout",
     "output_type": "stream",
     "text": [
      "Epoch [124/200] - Train Loss: 0.0010, Train Acc: 1.0000, Val Loss: 0.3382, Val Acc: 0.9000, Time: 8.43 seconds\n"
     ]
    },
    {
     "name": "stderr",
     "output_type": "stream",
     "text": [
      "                                                                                                                       \r"
     ]
    },
    {
     "name": "stdout",
     "output_type": "stream",
     "text": [
      "Epoch [125/200] - Train Loss: 0.0016, Train Acc: 1.0000, Val Loss: 0.3164, Val Acc: 0.8786, Time: 8.40 seconds\n"
     ]
    },
    {
     "name": "stderr",
     "output_type": "stream",
     "text": [
      "                                                                                                                       \r"
     ]
    },
    {
     "name": "stdout",
     "output_type": "stream",
     "text": [
      "Epoch [126/200] - Train Loss: 0.0012, Train Acc: 1.0000, Val Loss: 0.3172, Val Acc: 0.9000, Time: 8.42 seconds\n"
     ]
    },
    {
     "name": "stderr",
     "output_type": "stream",
     "text": [
      "                                                                                                                       \r"
     ]
    },
    {
     "name": "stdout",
     "output_type": "stream",
     "text": [
      "Epoch [127/200] - Train Loss: 0.0008, Train Acc: 1.0000, Val Loss: 0.3225, Val Acc: 0.9000, Time: 8.49 seconds\n"
     ]
    },
    {
     "name": "stderr",
     "output_type": "stream",
     "text": [
      "                                                                                                                       \r"
     ]
    },
    {
     "name": "stdout",
     "output_type": "stream",
     "text": [
      "Epoch [128/200] - Train Loss: 0.0010, Train Acc: 1.0000, Val Loss: 0.2858, Val Acc: 0.9000, Time: 8.40 seconds\n"
     ]
    },
    {
     "name": "stderr",
     "output_type": "stream",
     "text": [
      "                                                                                                                       \r"
     ]
    },
    {
     "name": "stdout",
     "output_type": "stream",
     "text": [
      "Epoch [129/200] - Train Loss: 0.0015, Train Acc: 1.0000, Val Loss: 0.2940, Val Acc: 0.9143, Time: 8.37 seconds\n"
     ]
    },
    {
     "name": "stderr",
     "output_type": "stream",
     "text": [
      "                                                                                                                       \r"
     ]
    },
    {
     "name": "stdout",
     "output_type": "stream",
     "text": [
      "Epoch [130/200] - Train Loss: 0.0013, Train Acc: 1.0000, Val Loss: 0.3427, Val Acc: 0.9071, Time: 8.44 seconds\n"
     ]
    },
    {
     "name": "stderr",
     "output_type": "stream",
     "text": [
      "                                                                                                                       \r"
     ]
    },
    {
     "name": "stdout",
     "output_type": "stream",
     "text": [
      "Epoch [131/200] - Train Loss: 0.0012, Train Acc: 1.0000, Val Loss: 0.3813, Val Acc: 0.8857, Time: 8.39 seconds\n"
     ]
    },
    {
     "name": "stderr",
     "output_type": "stream",
     "text": [
      "                                                                                                                       \r"
     ]
    },
    {
     "name": "stdout",
     "output_type": "stream",
     "text": [
      "Epoch [132/200] - Train Loss: 0.0009, Train Acc: 1.0000, Val Loss: 0.3200, Val Acc: 0.9071, Time: 8.51 seconds\n"
     ]
    },
    {
     "name": "stderr",
     "output_type": "stream",
     "text": [
      "                                                                                                                       \r"
     ]
    },
    {
     "name": "stdout",
     "output_type": "stream",
     "text": [
      "Epoch [133/200] - Train Loss: 0.0007, Train Acc: 1.0000, Val Loss: 0.2973, Val Acc: 0.9000, Time: 8.44 seconds\n"
     ]
    },
    {
     "name": "stderr",
     "output_type": "stream",
     "text": [
      "                                                                                                                       \r"
     ]
    },
    {
     "name": "stdout",
     "output_type": "stream",
     "text": [
      "Epoch [134/200] - Train Loss: 0.0010, Train Acc: 1.0000, Val Loss: 0.3053, Val Acc: 0.9000, Time: 8.51 seconds\n"
     ]
    },
    {
     "name": "stderr",
     "output_type": "stream",
     "text": [
      "                                                                                                                       \r"
     ]
    },
    {
     "name": "stdout",
     "output_type": "stream",
     "text": [
      "Epoch [135/200] - Train Loss: 0.0015, Train Acc: 0.9989, Val Loss: 0.3425, Val Acc: 0.9000, Time: 8.37 seconds\n"
     ]
    },
    {
     "name": "stderr",
     "output_type": "stream",
     "text": [
      "                                                                                                                       \r"
     ]
    },
    {
     "name": "stdout",
     "output_type": "stream",
     "text": [
      "Epoch [136/200] - Train Loss: 0.0046, Train Acc: 0.9989, Val Loss: 0.3441, Val Acc: 0.9143, Time: 8.39 seconds\n"
     ]
    },
    {
     "name": "stderr",
     "output_type": "stream",
     "text": [
      "                                                                                                                       \r"
     ]
    },
    {
     "name": "stdout",
     "output_type": "stream",
     "text": [
      "Epoch [137/200] - Train Loss: 0.0013, Train Acc: 1.0000, Val Loss: 0.3467, Val Acc: 0.8929, Time: 8.45 seconds\n"
     ]
    },
    {
     "name": "stderr",
     "output_type": "stream",
     "text": [
      "                                                                                                                       \r"
     ]
    },
    {
     "name": "stdout",
     "output_type": "stream",
     "text": [
      "Epoch [138/200] - Train Loss: 0.0015, Train Acc: 1.0000, Val Loss: 0.3128, Val Acc: 0.9071, Time: 8.40 seconds\n"
     ]
    },
    {
     "name": "stderr",
     "output_type": "stream",
     "text": [
      "                                                                                                                       \r"
     ]
    },
    {
     "name": "stdout",
     "output_type": "stream",
     "text": [
      "Epoch [139/200] - Train Loss: 0.0013, Train Acc: 1.0000, Val Loss: 0.3037, Val Acc: 0.9143, Time: 8.42 seconds\n"
     ]
    },
    {
     "name": "stderr",
     "output_type": "stream",
     "text": [
      "                                                                                                                       \r"
     ]
    },
    {
     "name": "stdout",
     "output_type": "stream",
     "text": [
      "Epoch [140/200] - Train Loss: 0.0011, Train Acc: 1.0000, Val Loss: 0.3082, Val Acc: 0.9214, Time: 8.40 seconds\n"
     ]
    },
    {
     "name": "stderr",
     "output_type": "stream",
     "text": [
      "                                                                                                                       \r"
     ]
    },
    {
     "name": "stdout",
     "output_type": "stream",
     "text": [
      "Epoch [141/200] - Train Loss: 0.0006, Train Acc: 1.0000, Val Loss: 0.3069, Val Acc: 0.9286, Time: 8.45 seconds\n"
     ]
    },
    {
     "name": "stderr",
     "output_type": "stream",
     "text": [
      "                                                                                                                       \r"
     ]
    },
    {
     "name": "stdout",
     "output_type": "stream",
     "text": [
      "Epoch [142/200] - Train Loss: 0.0007, Train Acc: 1.0000, Val Loss: 0.3191, Val Acc: 0.9143, Time: 8.38 seconds\n"
     ]
    },
    {
     "name": "stderr",
     "output_type": "stream",
     "text": [
      "                                                                                                                       \r"
     ]
    },
    {
     "name": "stdout",
     "output_type": "stream",
     "text": [
      "Epoch [143/200] - Train Loss: 0.0005, Train Acc: 1.0000, Val Loss: 0.3305, Val Acc: 0.9071, Time: 8.42 seconds\n"
     ]
    },
    {
     "name": "stderr",
     "output_type": "stream",
     "text": [
      "                                                                                                                       \r"
     ]
    },
    {
     "name": "stdout",
     "output_type": "stream",
     "text": [
      "Epoch [144/200] - Train Loss: 0.0004, Train Acc: 1.0000, Val Loss: 0.3298, Val Acc: 0.9071, Time: 8.31 seconds\n"
     ]
    },
    {
     "name": "stderr",
     "output_type": "stream",
     "text": [
      "                                                                                                                       \r"
     ]
    },
    {
     "name": "stdout",
     "output_type": "stream",
     "text": [
      "Epoch [145/200] - Train Loss: 0.0005, Train Acc: 1.0000, Val Loss: 0.3196, Val Acc: 0.9071, Time: 8.34 seconds\n"
     ]
    },
    {
     "name": "stderr",
     "output_type": "stream",
     "text": [
      "                                                                                                                       \r"
     ]
    },
    {
     "name": "stdout",
     "output_type": "stream",
     "text": [
      "Epoch [146/200] - Train Loss: 0.0004, Train Acc: 1.0000, Val Loss: 0.3185, Val Acc: 0.9143, Time: 8.27 seconds\n"
     ]
    },
    {
     "name": "stderr",
     "output_type": "stream",
     "text": [
      "                                                                                                                       \r"
     ]
    },
    {
     "name": "stdout",
     "output_type": "stream",
     "text": [
      "Epoch [147/200] - Train Loss: 0.0004, Train Acc: 1.0000, Val Loss: 0.3169, Val Acc: 0.9214, Time: 8.33 seconds\n"
     ]
    },
    {
     "name": "stderr",
     "output_type": "stream",
     "text": [
      "                                                                                                                       \r"
     ]
    },
    {
     "name": "stdout",
     "output_type": "stream",
     "text": [
      "Epoch [148/200] - Train Loss: 0.0004, Train Acc: 1.0000, Val Loss: 0.3182, Val Acc: 0.9143, Time: 8.29 seconds\n"
     ]
    },
    {
     "name": "stderr",
     "output_type": "stream",
     "text": [
      "                                                                                                                       \r"
     ]
    },
    {
     "name": "stdout",
     "output_type": "stream",
     "text": [
      "Epoch [149/200] - Train Loss: 0.0003, Train Acc: 1.0000, Val Loss: 0.3146, Val Acc: 0.9143, Time: 8.28 seconds\n"
     ]
    },
    {
     "name": "stderr",
     "output_type": "stream",
     "text": [
      "                                                                                                                       \r"
     ]
    },
    {
     "name": "stdout",
     "output_type": "stream",
     "text": [
      "Epoch [150/200] - Train Loss: 0.0003, Train Acc: 1.0000, Val Loss: 0.3191, Val Acc: 0.9143, Time: 8.22 seconds\n"
     ]
    },
    {
     "name": "stderr",
     "output_type": "stream",
     "text": [
      "                                                                                                                       \r"
     ]
    },
    {
     "name": "stdout",
     "output_type": "stream",
     "text": [
      "Epoch [151/200] - Train Loss: 0.0003, Train Acc: 1.0000, Val Loss: 0.3204, Val Acc: 0.9214, Time: 8.24 seconds\n"
     ]
    },
    {
     "name": "stderr",
     "output_type": "stream",
     "text": [
      "                                                                                                                       \r"
     ]
    },
    {
     "name": "stdout",
     "output_type": "stream",
     "text": [
      "Epoch [152/200] - Train Loss: 0.0004, Train Acc: 1.0000, Val Loss: 0.3219, Val Acc: 0.9214, Time: 8.35 seconds\n"
     ]
    },
    {
     "name": "stderr",
     "output_type": "stream",
     "text": [
      "                                                                                                                       \r"
     ]
    },
    {
     "name": "stdout",
     "output_type": "stream",
     "text": [
      "Epoch [153/200] - Train Loss: 0.0003, Train Acc: 1.0000, Val Loss: 0.3476, Val Acc: 0.8929, Time: 8.27 seconds\n"
     ]
    },
    {
     "name": "stderr",
     "output_type": "stream",
     "text": [
      "                                                                                                                       \r"
     ]
    },
    {
     "name": "stdout",
     "output_type": "stream",
     "text": [
      "Epoch [154/200] - Train Loss: 0.0007, Train Acc: 1.0000, Val Loss: 0.3176, Val Acc: 0.9143, Time: 8.23 seconds\n"
     ]
    },
    {
     "name": "stderr",
     "output_type": "stream",
     "text": [
      "                                                                                                                       \r"
     ]
    },
    {
     "name": "stdout",
     "output_type": "stream",
     "text": [
      "Epoch [155/200] - Train Loss: 0.0003, Train Acc: 1.0000, Val Loss: 0.3181, Val Acc: 0.9071, Time: 8.32 seconds\n"
     ]
    },
    {
     "name": "stderr",
     "output_type": "stream",
     "text": [
      "                                                                                                                       \r"
     ]
    },
    {
     "name": "stdout",
     "output_type": "stream",
     "text": [
      "Epoch [156/200] - Train Loss: 0.0003, Train Acc: 1.0000, Val Loss: 0.3204, Val Acc: 0.9071, Time: 8.31 seconds\n"
     ]
    },
    {
     "name": "stderr",
     "output_type": "stream",
     "text": [
      "                                                                                                                       \r"
     ]
    },
    {
     "name": "stdout",
     "output_type": "stream",
     "text": [
      "Epoch [157/200] - Train Loss: 0.0003, Train Acc: 1.0000, Val Loss: 0.3162, Val Acc: 0.9071, Time: 8.22 seconds\n"
     ]
    },
    {
     "name": "stderr",
     "output_type": "stream",
     "text": [
      "                                                                                                                       \r"
     ]
    },
    {
     "name": "stdout",
     "output_type": "stream",
     "text": [
      "Epoch [158/200] - Train Loss: 0.0003, Train Acc: 1.0000, Val Loss: 0.3085, Val Acc: 0.9071, Time: 8.21 seconds\n"
     ]
    },
    {
     "name": "stderr",
     "output_type": "stream",
     "text": [
      "                                                                                                                       \r"
     ]
    },
    {
     "name": "stdout",
     "output_type": "stream",
     "text": [
      "Epoch [159/200] - Train Loss: 0.0002, Train Acc: 1.0000, Val Loss: 0.3097, Val Acc: 0.9071, Time: 8.30 seconds\n"
     ]
    },
    {
     "name": "stderr",
     "output_type": "stream",
     "text": [
      "                                                                                                                       \r"
     ]
    },
    {
     "name": "stdout",
     "output_type": "stream",
     "text": [
      "Epoch [160/200] - Train Loss: 0.0002, Train Acc: 1.0000, Val Loss: 0.3162, Val Acc: 0.9143, Time: 8.26 seconds\n"
     ]
    },
    {
     "name": "stderr",
     "output_type": "stream",
     "text": [
      "                                                                                                                       \r"
     ]
    },
    {
     "name": "stdout",
     "output_type": "stream",
     "text": [
      "Epoch [161/200] - Train Loss: 0.0002, Train Acc: 1.0000, Val Loss: 0.3266, Val Acc: 0.9143, Time: 8.38 seconds\n"
     ]
    },
    {
     "name": "stderr",
     "output_type": "stream",
     "text": [
      "                                                                                                                       \r"
     ]
    },
    {
     "name": "stdout",
     "output_type": "stream",
     "text": [
      "Epoch [162/200] - Train Loss: 0.0002, Train Acc: 1.0000, Val Loss: 0.3279, Val Acc: 0.9143, Time: 8.29 seconds\n"
     ]
    },
    {
     "name": "stderr",
     "output_type": "stream",
     "text": [
      "                                                                                                                       \r"
     ]
    },
    {
     "name": "stdout",
     "output_type": "stream",
     "text": [
      "Epoch [163/200] - Train Loss: 0.0003, Train Acc: 1.0000, Val Loss: 0.3203, Val Acc: 0.9214, Time: 8.30 seconds\n"
     ]
    },
    {
     "name": "stderr",
     "output_type": "stream",
     "text": [
      "                                                                                                                       \r"
     ]
    },
    {
     "name": "stdout",
     "output_type": "stream",
     "text": [
      "Epoch [164/200] - Train Loss: 0.0002, Train Acc: 1.0000, Val Loss: 0.3074, Val Acc: 0.9143, Time: 8.24 seconds\n"
     ]
    },
    {
     "name": "stderr",
     "output_type": "stream",
     "text": [
      "                                                                                                                       \r"
     ]
    },
    {
     "name": "stdout",
     "output_type": "stream",
     "text": [
      "Epoch [165/200] - Train Loss: 0.0002, Train Acc: 1.0000, Val Loss: 0.3045, Val Acc: 0.9143, Time: 8.25 seconds\n"
     ]
    },
    {
     "name": "stderr",
     "output_type": "stream",
     "text": [
      "                                                                                                                       \r"
     ]
    },
    {
     "name": "stdout",
     "output_type": "stream",
     "text": [
      "Epoch [166/200] - Train Loss: 0.0002, Train Acc: 1.0000, Val Loss: 0.2992, Val Acc: 0.9143, Time: 8.29 seconds\n"
     ]
    },
    {
     "name": "stderr",
     "output_type": "stream",
     "text": [
      "                                                                                                                       \r"
     ]
    },
    {
     "name": "stdout",
     "output_type": "stream",
     "text": [
      "Epoch [167/200] - Train Loss: 0.0001, Train Acc: 1.0000, Val Loss: 0.2996, Val Acc: 0.9071, Time: 8.25 seconds\n"
     ]
    },
    {
     "name": "stderr",
     "output_type": "stream",
     "text": [
      "                                                                                                                       \r"
     ]
    },
    {
     "name": "stdout",
     "output_type": "stream",
     "text": [
      "Epoch [168/200] - Train Loss: 0.0002, Train Acc: 1.0000, Val Loss: 0.2990, Val Acc: 0.9143, Time: 8.27 seconds\n"
     ]
    },
    {
     "name": "stderr",
     "output_type": "stream",
     "text": [
      "                                                                                                                       \r"
     ]
    },
    {
     "name": "stdout",
     "output_type": "stream",
     "text": [
      "Epoch [169/200] - Train Loss: 0.0002, Train Acc: 1.0000, Val Loss: 0.2999, Val Acc: 0.9071, Time: 8.24 seconds\n"
     ]
    },
    {
     "name": "stderr",
     "output_type": "stream",
     "text": [
      "                                                                                                                       \r"
     ]
    },
    {
     "name": "stdout",
     "output_type": "stream",
     "text": [
      "Epoch [170/200] - Train Loss: 0.0001, Train Acc: 1.0000, Val Loss: 0.3041, Val Acc: 0.9214, Time: 8.31 seconds\n"
     ]
    },
    {
     "name": "stderr",
     "output_type": "stream",
     "text": [
      "                                                                                                                       \r"
     ]
    },
    {
     "name": "stdout",
     "output_type": "stream",
     "text": [
      "Epoch [171/200] - Train Loss: 0.0002, Train Acc: 1.0000, Val Loss: 0.3045, Val Acc: 0.9214, Time: 8.25 seconds\n"
     ]
    },
    {
     "name": "stderr",
     "output_type": "stream",
     "text": [
      "                                                                                                                       \r"
     ]
    },
    {
     "name": "stdout",
     "output_type": "stream",
     "text": [
      "Epoch [172/200] - Train Loss: 0.0002, Train Acc: 1.0000, Val Loss: 0.3127, Val Acc: 0.9286, Time: 8.24 seconds\n"
     ]
    },
    {
     "name": "stderr",
     "output_type": "stream",
     "text": [
      "                                                                                                                       \r"
     ]
    },
    {
     "name": "stdout",
     "output_type": "stream",
     "text": [
      "Epoch [173/200] - Train Loss: 0.0002, Train Acc: 1.0000, Val Loss: 0.3113, Val Acc: 0.9286, Time: 8.27 seconds\n"
     ]
    },
    {
     "name": "stderr",
     "output_type": "stream",
     "text": [
      "                                                                                                                       \r"
     ]
    },
    {
     "name": "stdout",
     "output_type": "stream",
     "text": [
      "Epoch [174/200] - Train Loss: 0.0001, Train Acc: 1.0000, Val Loss: 0.3170, Val Acc: 0.9214, Time: 8.27 seconds\n"
     ]
    },
    {
     "name": "stderr",
     "output_type": "stream",
     "text": [
      "                                                                                                                       \r"
     ]
    },
    {
     "name": "stdout",
     "output_type": "stream",
     "text": [
      "Epoch [175/200] - Train Loss: 0.0002, Train Acc: 1.0000, Val Loss: 0.3250, Val Acc: 0.9286, Time: 8.29 seconds\n"
     ]
    },
    {
     "name": "stderr",
     "output_type": "stream",
     "text": [
      "                                                                                                                       \r"
     ]
    },
    {
     "name": "stdout",
     "output_type": "stream",
     "text": [
      "Epoch [176/200] - Train Loss: 0.0002, Train Acc: 1.0000, Val Loss: 0.3325, Val Acc: 0.9214, Time: 8.35 seconds\n"
     ]
    },
    {
     "name": "stderr",
     "output_type": "stream",
     "text": [
      "                                                                                                                       \r"
     ]
    },
    {
     "name": "stdout",
     "output_type": "stream",
     "text": [
      "Epoch [177/200] - Train Loss: 0.0002, Train Acc: 1.0000, Val Loss: 0.3348, Val Acc: 0.9143, Time: 8.42 seconds\n"
     ]
    },
    {
     "name": "stderr",
     "output_type": "stream",
     "text": [
      "                                                                                                                       \r"
     ]
    },
    {
     "name": "stdout",
     "output_type": "stream",
     "text": [
      "Epoch [178/200] - Train Loss: 0.0002, Train Acc: 1.0000, Val Loss: 0.3254, Val Acc: 0.9286, Time: 8.23 seconds\n"
     ]
    },
    {
     "name": "stderr",
     "output_type": "stream",
     "text": [
      "                                                                                                                       \r"
     ]
    },
    {
     "name": "stdout",
     "output_type": "stream",
     "text": [
      "Epoch [179/200] - Train Loss: 0.0001, Train Acc: 1.0000, Val Loss: 0.3138, Val Acc: 0.9286, Time: 8.25 seconds\n"
     ]
    },
    {
     "name": "stderr",
     "output_type": "stream",
     "text": [
      "                                                                                                                       \r"
     ]
    },
    {
     "name": "stdout",
     "output_type": "stream",
     "text": [
      "Epoch [180/200] - Train Loss: 0.0001, Train Acc: 1.0000, Val Loss: 0.3026, Val Acc: 0.9286, Time: 8.27 seconds\n"
     ]
    },
    {
     "name": "stderr",
     "output_type": "stream",
     "text": [
      "                                                                                                                       \r"
     ]
    },
    {
     "name": "stdout",
     "output_type": "stream",
     "text": [
      "Epoch [181/200] - Train Loss: 0.0001, Train Acc: 1.0000, Val Loss: 0.3061, Val Acc: 0.9214, Time: 8.30 seconds\n"
     ]
    },
    {
     "name": "stderr",
     "output_type": "stream",
     "text": [
      "                                                                                                                       \r"
     ]
    },
    {
     "name": "stdout",
     "output_type": "stream",
     "text": [
      "Epoch [182/200] - Train Loss: 0.0001, Train Acc: 1.0000, Val Loss: 0.3046, Val Acc: 0.9286, Time: 8.21 seconds\n"
     ]
    },
    {
     "name": "stderr",
     "output_type": "stream",
     "text": [
      "                                                                                                                       \r"
     ]
    },
    {
     "name": "stdout",
     "output_type": "stream",
     "text": [
      "Epoch [183/200] - Train Loss: 0.0002, Train Acc: 1.0000, Val Loss: 0.2981, Val Acc: 0.9214, Time: 8.27 seconds\n"
     ]
    },
    {
     "name": "stderr",
     "output_type": "stream",
     "text": [
      "                                                                                                                       \r"
     ]
    },
    {
     "name": "stdout",
     "output_type": "stream",
     "text": [
      "Epoch [184/200] - Train Loss: 0.0001, Train Acc: 1.0000, Val Loss: 0.2988, Val Acc: 0.9214, Time: 8.29 seconds\n"
     ]
    },
    {
     "name": "stderr",
     "output_type": "stream",
     "text": [
      "                                                                                                                       \r"
     ]
    },
    {
     "name": "stdout",
     "output_type": "stream",
     "text": [
      "Epoch [185/200] - Train Loss: 0.0001, Train Acc: 1.0000, Val Loss: 0.3102, Val Acc: 0.9143, Time: 8.25 seconds\n"
     ]
    },
    {
     "name": "stderr",
     "output_type": "stream",
     "text": [
      "                                                                                                                       \r"
     ]
    },
    {
     "name": "stdout",
     "output_type": "stream",
     "text": [
      "Epoch [186/200] - Train Loss: 0.0001, Train Acc: 1.0000, Val Loss: 0.3117, Val Acc: 0.9143, Time: 8.21 seconds\n"
     ]
    },
    {
     "name": "stderr",
     "output_type": "stream",
     "text": [
      "                                                                                                                       \r"
     ]
    },
    {
     "name": "stdout",
     "output_type": "stream",
     "text": [
      "Epoch [187/200] - Train Loss: 0.0001, Train Acc: 1.0000, Val Loss: 0.3130, Val Acc: 0.9143, Time: 8.26 seconds\n"
     ]
    },
    {
     "name": "stderr",
     "output_type": "stream",
     "text": [
      "                                                                                                                       \r"
     ]
    },
    {
     "name": "stdout",
     "output_type": "stream",
     "text": [
      "Epoch [188/200] - Train Loss: 0.0001, Train Acc: 1.0000, Val Loss: 0.3183, Val Acc: 0.9214, Time: 8.38 seconds\n"
     ]
    },
    {
     "name": "stderr",
     "output_type": "stream",
     "text": [
      "                                                                                                                       \r"
     ]
    },
    {
     "name": "stdout",
     "output_type": "stream",
     "text": [
      "Epoch [189/200] - Train Loss: 0.0001, Train Acc: 1.0000, Val Loss: 0.3215, Val Acc: 0.9214, Time: 8.25 seconds\n"
     ]
    },
    {
     "name": "stderr",
     "output_type": "stream",
     "text": [
      "                                                                                                                       \r"
     ]
    },
    {
     "name": "stdout",
     "output_type": "stream",
     "text": [
      "Epoch [190/200] - Train Loss: 0.0001, Train Acc: 1.0000, Val Loss: 0.3211, Val Acc: 0.9214, Time: 8.50 seconds\n"
     ]
    },
    {
     "name": "stderr",
     "output_type": "stream",
     "text": [
      "                                                                                                                       \r"
     ]
    },
    {
     "name": "stdout",
     "output_type": "stream",
     "text": [
      "Epoch [191/200] - Train Loss: 0.0001, Train Acc: 1.0000, Val Loss: 0.3228, Val Acc: 0.9214, Time: 8.55 seconds\n"
     ]
    },
    {
     "name": "stderr",
     "output_type": "stream",
     "text": [
      "                                                                                                                       \r"
     ]
    },
    {
     "name": "stdout",
     "output_type": "stream",
     "text": [
      "Epoch [192/200] - Train Loss: 0.0001, Train Acc: 1.0000, Val Loss: 0.3245, Val Acc: 0.9214, Time: 8.44 seconds\n"
     ]
    },
    {
     "name": "stderr",
     "output_type": "stream",
     "text": [
      "                                                                                                                       \r"
     ]
    },
    {
     "name": "stdout",
     "output_type": "stream",
     "text": [
      "Epoch [193/200] - Train Loss: 0.0001, Train Acc: 1.0000, Val Loss: 0.3167, Val Acc: 0.9214, Time: 8.46 seconds\n"
     ]
    },
    {
     "name": "stderr",
     "output_type": "stream",
     "text": [
      "                                                                                                                       \r"
     ]
    },
    {
     "name": "stdout",
     "output_type": "stream",
     "text": [
      "Epoch [194/200] - Train Loss: 0.0001, Train Acc: 1.0000, Val Loss: 0.3190, Val Acc: 0.9214, Time: 8.40 seconds\n"
     ]
    },
    {
     "name": "stderr",
     "output_type": "stream",
     "text": [
      "                                                                                                                       \r"
     ]
    },
    {
     "name": "stdout",
     "output_type": "stream",
     "text": [
      "Epoch [195/200] - Train Loss: 0.0000, Train Acc: 1.0000, Val Loss: 0.3205, Val Acc: 0.9214, Time: 8.36 seconds\n"
     ]
    },
    {
     "name": "stderr",
     "output_type": "stream",
     "text": [
      "                                                                                                                       \r"
     ]
    },
    {
     "name": "stdout",
     "output_type": "stream",
     "text": [
      "Epoch [196/200] - Train Loss: 0.0001, Train Acc: 1.0000, Val Loss: 0.3243, Val Acc: 0.9214, Time: 8.25 seconds\n"
     ]
    },
    {
     "name": "stderr",
     "output_type": "stream",
     "text": [
      "                                                                                                                       \r"
     ]
    },
    {
     "name": "stdout",
     "output_type": "stream",
     "text": [
      "Epoch [197/200] - Train Loss: 0.0001, Train Acc: 1.0000, Val Loss: 0.3159, Val Acc: 0.9214, Time: 8.26 seconds\n"
     ]
    },
    {
     "name": "stderr",
     "output_type": "stream",
     "text": [
      "                                                                                                                       \r"
     ]
    },
    {
     "name": "stdout",
     "output_type": "stream",
     "text": [
      "Epoch [198/200] - Train Loss: 0.0001, Train Acc: 1.0000, Val Loss: 0.3216, Val Acc: 0.9214, Time: 8.39 seconds\n"
     ]
    },
    {
     "name": "stderr",
     "output_type": "stream",
     "text": [
      "                                                                                                                       \r"
     ]
    },
    {
     "name": "stdout",
     "output_type": "stream",
     "text": [
      "Epoch [199/200] - Train Loss: 0.0001, Train Acc: 1.0000, Val Loss: 0.3309, Val Acc: 0.9214, Time: 8.44 seconds\n"
     ]
    },
    {
     "name": "stderr",
     "output_type": "stream",
     "text": [
      "                                                                                                                       \r"
     ]
    },
    {
     "name": "stdout",
     "output_type": "stream",
     "text": [
      "Epoch [200/200] - Train Loss: 0.0001, Train Acc: 1.0000, Val Loss: 0.3335, Val Acc: 0.9143, Time: 8.29 seconds\n"
     ]
    }
   ],
   "source": [
    "# Define Early-stopping\n",
    "# class EarlyStopping:\n",
    "#     def __init__(self, patience=5, restore_best_weights=True):\n",
    "#         self.patience = patience\n",
    "#         self.restore_best_weights = restore_best_weights\n",
    "#         self.counter = 0\n",
    "#         self.best_val_loss = float('inf')\n",
    "    \n",
    "#     def __call__(self, val_loss, model):\n",
    "#         if val_loss < self.best_val_loss:\n",
    "#             self.best_val_loss = val_loss\n",
    "#             self.counter = 0\n",
    "#             if self.restore_best_weights:\n",
    "#                 self.best_weights = model.state_dict()\n",
    "#         else:\n",
    "#             self.counter += 1\n",
    "#         return self.counter >= self.patience\n",
    "\n",
    "# early_stopping = EarlyStopping(patience=5, restore_best_weights=True)\n",
    "\n",
    "# Train the model\n",
    "\n",
    "num_epochs = 200\n",
    "\n",
    "train_losses = []\n",
    "train_accuracies = []\n",
    "val_losses = []\n",
    "val_accuracies = []\n",
    "\n",
    "metrics_list = []  # List to store metrics for each epoch\n",
    "\n",
    "for epoch in range(num_epochs):\n",
    "    start_time = time.time()\n",
    "    model_jaffe.train()\n",
    "    total_loss = 0\n",
    "    correct_predictions = 0\n",
    "    total_predictions = 0\n",
    "\n",
    "    train_loader_iter = tqdm(train_loader, desc=f\"Epoch {epoch+1}/{num_epochs}\", leave=False)\n",
    "\n",
    "    for batch_X, batch_y in train_loader_iter:\n",
    "        batch_X, batch_y = batch_X.to(device), batch_y.to(device)\n",
    "        optimizer.zero_grad()\n",
    "        outputs = model_jaffe(batch_X)\n",
    "        loss = criterion(outputs, batch_y)\n",
    "        loss.backward()\n",
    "        optimizer.step()\n",
    "\n",
    "        _, predicted = torch.max(outputs, 1)\n",
    "        total_predictions += batch_y.size(0)\n",
    "        correct_predictions += (predicted == batch_y).sum().item()\n",
    "\n",
    "        total_loss += loss.item() * batch_X.size(0)\n",
    "\n",
    "        train_loader_iter.set_postfix({\"Train Loss\": total_loss / total_predictions})\n",
    "\n",
    "    train_accuracy = correct_predictions / total_predictions\n",
    "    train_loss = total_loss / len(train_loader.dataset)\n",
    "\n",
    "    # Validation loop\n",
    "    model_jaffe.eval()\n",
    "    val_loss = 0\n",
    "    val_correct_predictions = 0\n",
    "    val_total_predictions = 0\n",
    "\n",
    "    with torch.no_grad():\n",
    "        for batch_X_val, batch_y_val in val_loader:\n",
    "            batch_X_val, batch_y_val = batch_X_val.to(device), batch_y_val.to(device)\n",
    "            outputs_val = model_jaffe(batch_X_val)\n",
    "            loss_val = criterion(outputs_val, batch_y_val)\n",
    "\n",
    "            _, predicted_val = torch.max(outputs_val, 1)\n",
    "            val_total_predictions += batch_y_val.size(0)\n",
    "            val_correct_predictions += (predicted_val == batch_y_val).sum().item()\n",
    "\n",
    "            val_loss += loss_val.item() * batch_X_val.size(0)\n",
    "\n",
    "    val_accuracy = val_correct_predictions / val_total_predictions\n",
    "    val_loss = val_loss / len(val_loader.dataset)\n",
    "\n",
    "    train_losses.append(train_loss)\n",
    "    train_accuracies.append(train_accuracy)\n",
    "    val_losses.append(val_loss)\n",
    "    val_accuracies.append(val_accuracy)\n",
    "    \n",
    "    # Create dictionary for the epoch's metrics\n",
    "    epoch_metrics = {\n",
    "        'Epoch': epoch + 1,\n",
    "        'Train Loss': train_loss,\n",
    "        'Train Acc': train_accuracy,\n",
    "        'Val Loss': val_loss,\n",
    "        'Val Acc': val_accuracy\n",
    "    }\n",
    "    metrics_list.append(epoch_metrics)\n",
    "    \n",
    "    # Early Stopping Check\n",
    "#     if early_stopping(val_loss, model):\n",
    "#         print(f\"Early stopping at epoch {epoch}!\")\n",
    "#         break\n",
    "    \n",
    "    end_time = time.time()\n",
    "    epoch_time = end_time - start_time\n",
    "\n",
    "    print(f\"Epoch [{epoch+1}/{num_epochs}] - \"\n",
    "          f\"Train Loss: {train_loss:.4f}, Train Acc: {train_accuracy:.4f}, \"\n",
    "          f\"Val Loss: {val_loss:.4f}, Val Acc: {val_accuracy:.4f}, \"\n",
    "          f\"Time: {epoch_time:.2f} seconds\")\n",
    "\n",
    "# Create a DataFrame from the metrics_list\n",
    "metrics_df = pd.DataFrame(metrics_list)\n",
    "\n",
    "# Save the DataFrame as a CSV file\n",
    "metrics_df.to_csv('my_deep_training_metrics.csv', index=False)"
   ]
  },
  {
   "cell_type": "code",
   "execution_count": 9,
   "id": "547c36ff",
   "metadata": {},
   "outputs": [],
   "source": [
    "# Save the trained model weights\n",
    "torch.save(model_jaffe.state_dict(), 'path_to_my_model_jaffe.pth')"
   ]
  },
  {
   "cell_type": "code",
   "execution_count": 10,
   "id": "ec587ee0",
   "metadata": {},
   "outputs": [],
   "source": [
    "# Load the CSV file\n",
    "metrics_df = pd.read_csv('my_deep_training_metrics.csv')\n",
    "\n",
    "# Fetch the values into variables\n",
    "epochs = metrics_df['Epoch'].values\n",
    "train_losses = metrics_df['Train Loss'].values\n",
    "train_accuracies = metrics_df['Train Acc'].values\n",
    "val_losses = metrics_df['Val Loss'].values\n",
    "val_accuracies = metrics_df['Val Acc'].values"
   ]
  },
  {
   "cell_type": "code",
   "execution_count": 11,
   "id": "f6a32b36",
   "metadata": {},
   "outputs": [
    {
     "name": "stdout",
     "output_type": "stream",
     "text": [
      "Average Validation Accuracy : 89.45 %\n"
     ]
    }
   ],
   "source": [
    "val_acc_avg = sum(val_accuracies)/num_epochs\n",
    "\n",
    "print(f\"Average Validation Accuracy : {(val_acc_avg*100):.2f} %\")"
   ]
  },
  {
   "cell_type": "code",
   "execution_count": 12,
   "id": "c2082290",
   "metadata": {},
   "outputs": [
    {
     "data": {
      "image/png": "[encoded data removed]",
      "text/plain": [
       "<Figure size 1500x500 with 2 Axes>"
      ]
     },
     "metadata": {},
     "output_type": "display_data"
    }
   ],
   "source": [
    "import matplotlib.pyplot as plt\n",
    "\n",
    "plt.figure(figsize=(15, 5))\n",
    "plt.subplot(1, 2, 1)\n",
    "plt.title(\"Accuracy Plot\", size=20, color='cornflowerblue')\n",
    "plt.plot(train_accuracies, '.-', label='train accuracy')\n",
    "plt.plot(val_accuracies, '.-', label='validation accuracy')\n",
    "plt.xlabel('Epoch', size=15)\n",
    "plt.ylabel('Accuracy', size=15)\n",
    "plt.grid(True)\n",
    "plt.legend(loc='lower right')\n",
    "\n",
    "plt.subplot(1, 2, 2)\n",
    "plt.title(\"Loss Plot\", size=20, color='violet')\n",
    "plt.plot(train_losses, '.-', label='train loss')\n",
    "plt.plot(val_losses, '.-', label='validation loss')\n",
    "plt.xlabel('Epoch', size=15)\n",
    "plt.ylabel('Loss', size=15)\n",
    "plt.grid(True)\n",
    "plt.legend(loc='upper right')\n",
    "plt.show()"
   ]
  },
  {
   "cell_type": "code",
   "execution_count": 13,
   "id": "a813b10b",
   "metadata": {},
   "outputs": [],
   "source": [
    "import time\n",
    "import pandas as pd\n",
    "import torch\n",
    "import torch.nn.functional as F\n",
    "import matplotlib.pyplot as plt\n",
    "import seaborn as sns\n",
    "from sklearn.metrics import confusion_matrix, classification_report"
   ]
  },
  {
   "cell_type": "code",
   "execution_count": 14,
   "id": "6005036f",
   "metadata": {},
   "outputs": [
    {
     "name": "stdout",
     "output_type": "stream",
     "text": [
      "Accuracy: 0.8962\n"
     ]
    },
    {
     "data": {
      "image/png": "[encoded data removed]",
      "text/plain": [
       "<Figure size 1200x500 with 2 Axes>"
      ]
     },
     "metadata": {},
     "output_type": "display_data"
    },
    {
     "name": "stdout",
     "output_type": "stream",
     "text": [
      "Classification Report:\n",
      "              precision    recall  f1-score   support\n",
      "\n",
      "       angry       0.93      0.88      0.90        42\n",
      "     disgust       0.90      0.87      0.89        31\n",
      "        fear       0.87      0.87      0.87        23\n",
      "       happy       0.86      0.96      0.91        51\n",
      "     neutral       0.84      0.89      0.86        36\n",
      "         sad       0.96      0.90      0.93        29\n",
      "    surprise       0.93      0.88      0.90        48\n",
      "\n",
      "    accuracy                           0.90       260\n",
      "   macro avg       0.90      0.89      0.89       260\n",
      "weighted avg       0.90      0.90      0.90       260\n",
      "\n"
     ]
    }
   ],
   "source": [
    "from sklearn.metrics import confusion_matrix, classification_report\n",
    "import seaborn as sns\n",
    "import matplotlib.pyplot as plt\n",
    "\n",
    "def evaluate_model(model_jaffe, test_loader, class_names):\n",
    "    model_jaffe.eval()\n",
    "    correct = 0\n",
    "    total = 0\n",
    "    all_preds = []\n",
    "    all_labels = []\n",
    "\n",
    "    with torch.no_grad():\n",
    "        for images, labels in test_loader:\n",
    "            images, labels = images.to(device), labels.to(device)\n",
    "            outputs = model_jaffe(images)\n",
    "            _, predicted = torch.max(outputs, 1)\n",
    "            total += labels.size(0)\n",
    "            correct += (predicted == labels).sum().item()\n",
    "\n",
    "            all_preds.extend(predicted.tolist())\n",
    "            all_labels.extend(labels.tolist())\n",
    "\n",
    "    accuracy = correct / total\n",
    "    print(f'Accuracy: {accuracy:.4f}')\n",
    "\n",
    "    confusion = confusion_matrix(all_labels, all_preds)\n",
    "    plt.figure(figsize=(12, 5))\n",
    "    # Plotting font customization\n",
    "    plt.rcParams[\"font.family\"] = \"Tahoma\"\n",
    "    plt.rcParams[\"font.size\"] = 12\n",
    "    plt.rcParams[\"font.weight\"] = \"bold\"\n",
    "    # Heatmap\n",
    "    sns.heatmap(confusion, annot=True, fmt='d', cmap='Blues', xticklabels=class_names, yticklabels=class_names)\n",
    "    # Plot Labels\n",
    "    plt.xlabel('\\nPredicted', size=15, color='orangered', fontname=\"LEMON MILK\")\n",
    "    plt.ylabel('Ground Truth\\n', size=15, color='dodgerblue', fontname=\"LEMON MILK\")\n",
    "    plt.title('Confusion Matrix\\nDeepFER Model (Proposed Model)\\n', size=20, color='teal', \n",
    "              fontname=\"Tahoma\", fontweight=\"bold\")\n",
    "    \n",
    "    plt.text(-1.5, -1.5, f\"Test Accuracy: {100*accuracy:.4f} %\", fontsize=12, color='crimson',\n",
    "         bbox=dict(facecolor='white', edgecolor='crimson', boxstyle='round,pad=0.4'))\n",
    "    \n",
    "    plt.text(6, -1.5, f\"Dataset: JAFFE\", fontsize=16, color='crimson',\n",
    "         bbox=dict(facecolor='white', edgecolor='crimson', boxstyle='round,pad=0.4'))\n",
    "    \n",
    "    plt.show()\n",
    "\n",
    "    class_report = classification_report(all_labels, all_preds, target_names=class_names)\n",
    "    print('Classification Report:')\n",
    "    print(class_report)\n",
    "\n",
    "# Create an instance of the model\n",
    "model_jaffe = DeepFER()\n",
    "\n",
    "# Load the saved model weights\n",
    "model_jaffe.load_state_dict(torch.load('path_to_my_model_jaffe.pth'))\n",
    "model_jaffe.to(device)\n",
    "\n",
    "# Define your test loader and class names\n",
    "# Assuming test_loader and class_names are defined\n",
    "\n",
    "# Call the evaluate_model function\n",
    "evaluate_model(model_jaffe, test_loader, class_names)"
   ]
  },
  {
   "cell_type": "code",
   "execution_count": null,
   "id": "e6b94605",
   "metadata": {},
   "outputs": [],
   "source": []
  }
 ],
 "metadata": {
  "kernelspec": {
   "display_name": "Python (pytorch)",
   "language": "python",
   "name": "pytorch"
  },
  "language_info": {
   "codemirror_mode": {
    "name": "ipython",
    "version": 3
   },
   "file_extension": ".py",
   "mimetype": "text/x-python",
   "name": "python",
   "nbconvert_exporter": "python",
   "pygments_lexer": "ipython3",
   "version": "3.8.17"
  }
 },
 "nbformat": 4,
 "nbformat_minor": 5
}
