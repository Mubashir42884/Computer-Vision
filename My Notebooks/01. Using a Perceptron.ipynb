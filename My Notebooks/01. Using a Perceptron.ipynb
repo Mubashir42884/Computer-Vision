{
 "cells": [
  {
   "cell_type": "markdown",
   "id": "1290d30d",
   "metadata": {},
   "source": [
    "<h4> <b> PERCEPTRON </b> </h4>\n",
    "To work with a single perceptron, we need a single linearly-separable problem. A single perceptron can only predict one linearly-separable problem. Such as- predicting results of AND, OR gates.\n",
    "<br><br>\n",
    "In this notebook, we will try to implement a single perceptron that can predict AND, OR logical results. Furthermore, we will learn why XOR logical results cannot be implemented with a single perceptron. Therefore, this will be our basic Neural Network code and the first also. Let's see what we will use, how will we use and why will we use-----"
   ]
  },
  {
   "cell_type": "markdown",
   "id": "3ce32503",
   "metadata": {},
   "source": [
    "<h4> What will we use: </h4>\n",
    "    1. We will first define the variables for the logical operations. --> X1 and X2 (lists of binary combination)<br>\n",
    "    2. Then define the corresponding results for OR, AND logical operations. --> Y_OR, Y_AND (as lists)<br>\n",
    "    3. Will use Matplotlib libray for ploting the logical results, predicted results and try to implement simulative results (iterative plot on each epoch)<br>\n",
    "    4. We will also use random library for generating our weight, bias values for the perceptron<br>\n",
    "    5. We will use the very basic and fundamental steps to build a perceptron:<br>\n",
    "           <br>              i. Defining random Weights and bias to initially guess the results.\n",
    "           <br>              ii. Defining a very small step of learning rate for the perceptron to learn by trial and error.\n",
    "            <br>              iii. Defining a threshold value, which will help the perceptron make a prediction\n",
    "            <br>              iv. After each prediction, it will able to calculate the error it made predicting the results for each time.<br>\n",
    "            <b><i><h5>                         error = actual_result - predicted_result</h5></i></b>\n",
    "            <br>              vi. Based on the error, the value of weights and bias will be changed accordingly. By the time, it will go               near to the perfect value of weights and bias that can predict the logical results correctly.\n",
    "            <br>              v. The process will repeat until there is no error. Thus, the perceptron will be able to predict the               results correctly."
   ]
  },
  {
   "cell_type": "markdown",
   "id": "4ab824e5",
   "metadata": {},
   "source": [
    "<h4> How will we use: </h4>\n",
    "    1. We will use the variables (X1 and X2) to correspond logical results (Y_OR, Y_AND) <br>\n",
    "    2. After that, we wil try to separately plot the corresponding results for OR & AND <br>\n",
    "    3. Using, random, we will define an initial random values for both weights and bias. <br>\n",
    "    4. Finally, we will try to implement the perceptron using the steps mentioned.<br>"
   ]
  },
  {
   "cell_type": "markdown",
   "id": "ff71bca1",
   "metadata": {},
   "source": [
    "<h4> Why will we use: </h4>\n",
    "    1. X1 and X2 variables would be used for 4 combinations of logical operations<br>\n",
    "    2. Y_OR and Y_AND will be used to train the perceptron as reference<br>\n",
    "    3. Learning rate will be used to make the machine learn one at a time. Because, learning step by step is very efficient when complex problems appears. It let the perceptron to analyze the complexity of a problem in a small simple parts <br>\n",
    "    4. Threshold value is used to make decision on the predicted results. This helps the perceptron to terminate the output, wether it is wrong or right. After applying the threshold to so many combinations of results, the perceptron learns what is more correct <br>\n",
    "    5. Weights are used to evaluate the importance/relevancy of a variable for the whole calculation. It changes and updates by learning the error it made for each particular variables in every iteration to gradually adjust into the correct results <br>\n",
    "    6. Bias are used to minimize the risk of getting the same results everytime. Because, when a perceptron learns, it learns from mistakes. For each mistakes, the bias also updates by learning the error.<br>"
   ]
  },
  {
   "cell_type": "markdown",
   "id": "8586b668",
   "metadata": {},
   "source": [
    "## Building a Perceptron to predict AND, OR logic results"
   ]
  },
  {
   "cell_type": "code",
   "execution_count": 1,
   "id": "d16ef32a",
   "metadata": {},
   "outputs": [],
   "source": [
    "# Import the necessary libraries\n",
    "import matplotlib.pyplot as plt\n",
    "import math\n",
    "import random\n",
    "import numpy as np"
   ]
  },
  {
   "cell_type": "code",
   "execution_count": 2,
   "id": "bcc9fef5",
   "metadata": {},
   "outputs": [],
   "source": [
    "# Define X1 and X2 for logical operations\n",
    "X1 = [0, 0, 1, 1]\n",
    "X2 = [0, 1, 0, 1]\n",
    "\n",
    "# Define Y_OR, Y_AND for training\n",
    "Y_OR = [0, 1, 1, 1]\n",
    "Y_AND = [0, 0, 0, 1]"
   ]
  },
  {
   "cell_type": "code",
   "execution_count": 3,
   "id": "926ff111",
   "metadata": {},
   "outputs": [
    {
     "data": {
      "image/png": "[encoded data removed]",
      "text/plain": [
       "<Figure size 720x288 with 2 Axes>"
      ]
     },
     "metadata": {
      "needs_background": "light"
     },
     "output_type": "display_data"
    }
   ],
   "source": [
    "# Create subplots\n",
    "fig, axs = plt.subplots(1, 2, figsize=(10, 4))\n",
    "\n",
    "# Plot Y_OR\n",
    "axs[0].set_title('Y_OR')\n",
    "for i in range(4):\n",
    "    if Y_OR[i] == 0:\n",
    "        axs[0].plot(X1[i], X2[i], \"rs\")\n",
    "    else:\n",
    "        axs[0].plot(X1[i], X2[i], \"go\")\n",
    "\n",
    "# Plot Y_AND\n",
    "axs[1].set_title('Y_AND')\n",
    "for i in range(4):\n",
    "    if Y_AND[i] == 0:\n",
    "        axs[1].plot(X1[i], X2[i], \"rs\")\n",
    "    else:\n",
    "        axs[1].plot(X1[i], X2[i], \"go\")\n",
    "\n",
    "# Adjust layout and show the plot\n",
    "plt.tight_layout()\n",
    "plt.show()"
   ]
  },
  {
   "cell_type": "code",
   "execution_count": 4,
   "id": "24ce4f4e",
   "metadata": {},
   "outputs": [
    {
     "name": "stdout",
     "output_type": "stream",
     "text": [
      "Weights : [0.2673814031908679, 0.46086199008543327]\n",
      "Bias : 0.9351015572608571\n",
      "Learning Rate : 0.05\n",
      "Threshold : 0.65\n"
     ]
    }
   ],
   "source": [
    "# Initialize Weight and Bias\n",
    "W = [random.random(), random.random()]  # [W1 and W2]\n",
    "b = random.random()  # bias\n",
    "\n",
    "# Set learning_rate and threshold\n",
    "lr = 0.05\n",
    "theta = 0.65\n",
    "\n",
    "print(f\"Weights : {W}\\nBias : {b}\\nLearning Rate : {lr}\\nThreshold : {theta}\")"
   ]
  },
  {
   "cell_type": "markdown",
   "id": "55cb15d6",
   "metadata": {},
   "source": [
    "Implementing the perceptron following steps in each loop-\n",
    "```python\n",
    "1. Calculate weighted sum and set the prediction to zero\n",
    "2. Check the weighted sum condition with threshold value and make decision (Activation Function)\n",
    "3. Calculate the error and check for wether to update the values or progress next\n",
    "4. Repeat until the loop return 4 counts of correctly predicted results\n",
    "```"
   ]
  },
  {
   "cell_type": "code",
   "execution_count": 5,
   "id": "edbf022a",
   "metadata": {},
   "outputs": [],
   "source": [
    "def pred_logic(Y, b):\n",
    "    # Perceptron for the operations\n",
    "    epoch = 0\n",
    "    count = 0\n",
    "\n",
    "    while count < 4:\n",
    "        total_error = 0\n",
    "        print(f\"Epoch : {epoch}\")\n",
    "        for i in range(len(X1)):\n",
    "            ws = W[0]*X1[i] + W[1]*X2[i] + b # W1*X1 + W2*X2 + b\n",
    "            pred = 0\n",
    "            if ws > theta:\n",
    "                pred = 1\n",
    "\n",
    "            error = Y[i] - pred\n",
    "            if error != 0:\n",
    "                count = 0\n",
    "                total_error += math.sqrt(error**2)\n",
    "                    # Update the weights and bias\n",
    "                W[0] += error * X1[i] * lr\n",
    "                W[1] += error * X2[i] * lr\n",
    "                b    += error * lr\n",
    "            else:\n",
    "                count += 1\n",
    "\n",
    "            print(f\"[{X1[i]} , {X2[i]}] = {pred} / {Y[i]}\")\n",
    "\n",
    "        print(f\"Loss: {total_error}\")\n",
    "        print(\"------------------------------\\n\")\n",
    "        epoch += 1"
   ]
  },
  {
   "cell_type": "code",
   "execution_count": 6,
   "id": "d6f03b3f",
   "metadata": {},
   "outputs": [
    {
     "name": "stdout",
     "output_type": "stream",
     "text": [
      "Epoch : 0\n",
      "[0 , 0] = 1 / 0\n",
      "[0 , 1] = 1 / 1\n",
      "[1 , 0] = 1 / 1\n",
      "[1 , 1] = 1 / 1\n",
      "Loss: 1.0\n",
      "------------------------------\n",
      "\n",
      "Epoch : 1\n",
      "[0 , 0] = 1 / 0\n",
      "[0 , 1] = 1 / 1\n",
      "[1 , 0] = 1 / 1\n",
      "[1 , 1] = 1 / 1\n",
      "Loss: 1.0\n",
      "------------------------------\n",
      "\n",
      "Epoch : 2\n",
      "[0 , 0] = 1 / 0\n",
      "[0 , 1] = 1 / 1\n",
      "[1 , 0] = 1 / 1\n",
      "[1 , 1] = 1 / 1\n",
      "Loss: 1.0\n",
      "------------------------------\n",
      "\n",
      "Epoch : 3\n",
      "[0 , 0] = 1 / 0\n",
      "[0 , 1] = 1 / 1\n",
      "[1 , 0] = 1 / 1\n",
      "[1 , 1] = 1 / 1\n",
      "Loss: 1.0\n",
      "------------------------------\n",
      "\n",
      "Epoch : 4\n",
      "[0 , 0] = 1 / 0\n",
      "[0 , 1] = 1 / 1\n",
      "[1 , 0] = 1 / 1\n",
      "[1 , 1] = 1 / 1\n",
      "Loss: 1.0\n",
      "------------------------------\n",
      "\n",
      "Epoch : 5\n",
      "[0 , 0] = 1 / 0\n",
      "[0 , 1] = 1 / 1\n",
      "[1 , 0] = 1 / 1\n",
      "[1 , 1] = 1 / 1\n",
      "Loss: 1.0\n",
      "------------------------------\n",
      "\n",
      "Epoch : 6\n",
      "[0 , 0] = 0 / 0\n",
      "[0 , 1] = 1 / 1\n",
      "[1 , 0] = 1 / 1\n",
      "[1 , 1] = 1 / 1\n",
      "Loss: 0\n",
      "------------------------------\n",
      "\n"
     ]
    }
   ],
   "source": [
    "# Choose one at a time\n",
    "pred_logic(Y_OR, b)\n",
    "#pred_logic(Y_AND, b)"
   ]
  },
  {
   "cell_type": "code",
   "execution_count": 7,
   "id": "d6de8837",
   "metadata": {},
   "outputs": [
    {
     "name": "stdout",
     "output_type": "stream",
     "text": [
      "Updated Weights and Bias :\n",
      "---------------------------\n",
      "W1 =  0.2673814031908679\n",
      "W2 =  0.46086199008543327\n",
      "b  =  0.9351015572608571\n"
     ]
    }
   ],
   "source": [
    "print(\"Updated Weights and Bias :\\n---------------------------\")\n",
    "print(\"W1 = \", W[0])\n",
    "print(\"W2 = \", W[1])\n",
    "print(\"b  = \", b)"
   ]
  },
  {
   "cell_type": "markdown",
   "id": "6f0b0644",
   "metadata": {},
   "source": [
    "<h3> Plotting Results with Linear Decision Boundary </h3>"
   ]
  },
  {
   "cell_type": "markdown",
   "id": "9d2c199b",
   "metadata": {},
   "source": [
    "Here we will try to draw a line that will seperate two results, showing the boundary between it."
   ]
  },
  {
   "cell_type": "code",
   "execution_count": 8,
   "id": "ea87609d",
   "metadata": {},
   "outputs": [
    {
     "data": {
      "image/png": "[encoded data removed]",
      "text/plain": [
       "<Figure size 432x288 with 1 Axes>"
      ]
     },
     "metadata": {
      "needs_background": "light"
     },
     "output_type": "display_data"
    }
   ],
   "source": [
    "plt.figure()\n",
    "for i in range(len(Y_OR)):\n",
    "    if Y_OR[i] == 0:\n",
    "        plt.plot(X1[i], X2[i], \"rs\")\n",
    "    else:\n",
    "        plt.plot(X1[i], X2[i], \"go\")\n",
    "\n",
    "# Calculating x-intercept and y-intercept\n",
    "# y-intercept is the point where the line intercepts in y-axis.\n",
    "# x-intercept is the point where the line intercepts in x-axis.\n",
    "# To calculate it, we will use the W1 in x-axis, and W2 in y-axis.\n",
    "# Using the difference of the threshold and bias as the measuring point for both axes.\n",
    "\n",
    "xintr=(theta-b)/W[0]\n",
    "yintr=(theta-b)/W[1]\n",
    "\n",
    "slope=-yintr/xintr\n",
    "xx=plt.xlim(-0.1, 1.1)\n",
    "plt.ylim(-0.1, 1.1)\n",
    "yeq = []\n",
    "for x in xx:\n",
    "    yeq.append(slope*x+yintr)\n",
    "plt.plot(xx,yeq)\n",
    "plt.show()"
   ]
  },
  {
   "cell_type": "markdown",
   "id": "20430d64",
   "metadata": {},
   "source": [
    "<h3> Visualizing Every Epoch </h3>"
   ]
  },
  {
   "cell_type": "code",
   "execution_count": 9,
   "id": "387bffab",
   "metadata": {
    "scrolled": false
   },
   "outputs": [
    {
     "data": {
      "image/png": "[encoded data removed]",
      "text/plain": [
       "<Figure size 432x288 with 1 Axes>"
      ]
     },
     "metadata": {
      "needs_background": "light"
     },
     "output_type": "display_data"
    },
    {
     "name": "stdout",
     "output_type": "stream",
     "text": [
      "Total Epoch : 65\n"
     ]
    }
   ],
   "source": [
    "from IPython import display\n",
    "\n",
    "def pred_logic(Y, b):\n",
    "    # Perceptron for the operations\n",
    "    epoch = 0\n",
    "    count = 0\n",
    "\n",
    "    while count < 4:\n",
    "        lr = 0.0045\n",
    "        total_error = 0\n",
    "        print(f\"Epoch : {epoch}\")\n",
    "        for i in range(len(X1)):\n",
    "            ws = W[0]*X1[i] + W[1]*X2[i] + b # W1*X1 + W2*X2 + b\n",
    "            pred = 0\n",
    "            if ws > theta:\n",
    "                pred = 1\n",
    "\n",
    "            error = Y[i] - pred\n",
    "            if error != 0:\n",
    "                count = 0\n",
    "                total_error += math.sqrt(error**2)\n",
    "                    # Update the weights and bias\n",
    "                W[0] += error * X1[i] * lr\n",
    "                W[1] += error * X2[i] * lr\n",
    "                b    += error * lr\n",
    "            else:\n",
    "                count += 1\n",
    "        epoch += 1\n",
    "        \n",
    "        plt.figure()\n",
    "        display.clear_output(wait=True)\n",
    "        for i in range(len(Y_OR)):\n",
    "            if Y_OR[i] == 0:\n",
    "                plt.plot(X1[i], X2[i], \"rs\")\n",
    "            else:\n",
    "                plt.plot(X1[i], X2[i], \"go\")\n",
    "        plt.xlim([-0.1, 1.1])\n",
    "        plt.ylim([-0.1, 1.1])\n",
    "\n",
    "        xintr=(theta-b)/W[0]\n",
    "        yintr=(theta-b)/W[1]\n",
    "        slope=-yintr/xintr\n",
    "        \n",
    "        xx=plt.xlim(-0.1, 1.1)\n",
    "        plt.ylim(-0.1, 1.1)\n",
    "        yeq = []\n",
    "        for x in xx:\n",
    "            yeq.append(slope*x+yintr)\n",
    "        plt.plot(xx, yeq)\n",
    "        plt.show()\n",
    "        print(f\"Total Epoch : {epoch}\")\n",
    "\n",
    "pred_logic(Y_OR, b)"
   ]
  },
  {
   "cell_type": "code",
   "execution_count": null,
   "id": "90164731",
   "metadata": {},
   "outputs": [],
   "source": []
  }
 ],
 "metadata": {
  "kernelspec": {
   "display_name": "Python 3 (ipykernel)",
   "language": "python",
   "name": "python3"
  },
  "language_info": {
   "codemirror_mode": {
    "name": "ipython",
    "version": 3
   },
   "file_extension": ".py",
   "mimetype": "text/x-python",
   "name": "python",
   "nbconvert_exporter": "python",
   "pygments_lexer": "ipython3",
   "version": "3.9.12"
  }
 },
 "nbformat": 4,
 "nbformat_minor": 5
}
